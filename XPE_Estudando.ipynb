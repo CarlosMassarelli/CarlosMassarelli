{
  "nbformat": 4,
  "nbformat_minor": 0,
  "metadata": {
    "colab": {
      "provenance": [],
      "authorship_tag": "ABX9TyPAG35iVUnIyUKKR5gn0FSJ",
      "include_colab_link": true
    },
    "kernelspec": {
      "name": "python3",
      "display_name": "Python 3"
    },
    "language_info": {
      "name": "python"
    }
  },
  "cells": [
    {
      "cell_type": "markdown",
      "metadata": {
        "id": "view-in-github",
        "colab_type": "text"
      },
      "source": [
        "<a href=\"https://colab.research.google.com/github/CarlosMassarelli/CarlosMassarelli/blob/main/XPE_Estudando.ipynb\" target=\"_parent\"><img src=\"https://colab.research.google.com/assets/colab-badge.svg\" alt=\"Open In Colab\"/></a>"
      ]
    },
    {
      "cell_type": "markdown",
      "source": [
        "### **Estudos em Python... XPE**"
      ],
      "metadata": {
        "id": "LDYyPAfHfxFP"
      }
    },
    {
      "cell_type": "code",
      "execution_count": null,
      "metadata": {
        "colab": {
          "base_uri": "https://localhost:8080/"
        },
        "id": "riAIIlZxfhhj",
        "outputId": "9d56ef49-7a22-4418-a475-cddc5819f674"
      },
      "outputs": [
        {
          "output_type": "stream",
          "name": "stdout",
          "text": [
            "olá  carlos seja bem-vindo!\n"
          ]
        }
      ],
      "source": [
        "nome='carlos'\n",
        "print('olá ', nome, 'seja bem-vindo!')"
      ]
    },
    {
      "cell_type": "code",
      "source": [
        "#alguns testes\n",
        "limiar=5\n",
        "\n",
        "menores=[]#cria lista menores\n",
        "maiores=[]#cria lista maiores\n",
        "\n",
        "#divide os numeros de 1 a 10 em maiores e menores\n",
        "for i in range(10):\n",
        "  if (i<limiar):\n",
        "    menores.append(i)\n",
        "  elif (i>limiar):\n",
        "    maiores.append(i)\n",
        "\n",
        "#imprime valores das listas\n",
        "print('Resultado final')\n",
        "print('menores:', menores)\n",
        "print('maiores:', maiores)\n",
        "\n"
      ],
      "metadata": {
        "colab": {
          "base_uri": "https://localhost:8080/"
        },
        "id": "eL6sO6NEgYRB",
        "outputId": "ed520b03-34dd-47f7-8446-ccd21b4fcc1e"
      },
      "execution_count": null,
      "outputs": [
        {
          "output_type": "stream",
          "name": "stdout",
          "text": [
            "Resultado final\n",
            "menores: [0, 1, 2, 3, 4]\n",
            "maiores: [6, 7, 8, 9]\n"
          ]
        }
      ]
    },
    {
      "cell_type": "code",
      "source": [
        "#codigos diversos\n",
        "x=4\n",
        "if x>5:\n",
        "  x *=2\n",
        "print (x) #mostra que a identação é significativa.\n",
        "\n",
        "print('fim')"
      ],
      "metadata": {
        "colab": {
          "base_uri": "https://localhost:8080/"
        },
        "id": "Q3isbaN8h5nj",
        "outputId": "370d18ae-eef0-4f00-ddae-54348b73b173"
      },
      "execution_count": null,
      "outputs": [
        {
          "output_type": "stream",
          "name": "stdout",
          "text": [
            "4\n",
            "fim\n"
          ]
        }
      ]
    },
    {
      "cell_type": "code",
      "source": [
        "z='''Veja que coisa interessante\n",
        "       vamos fazer uma coisa \"nova\"\n",
        "       com vários 'tipos' de dados e, várias\n",
        "               informações'''\n",
        "print(z)"
      ],
      "metadata": {
        "colab": {
          "base_uri": "https://localhost:8080/"
        },
        "id": "NL5aFzjXis_E",
        "outputId": "d6f73198-6fc6-461c-e78e-9008a80a3353"
      },
      "execution_count": null,
      "outputs": [
        {
          "output_type": "stream",
          "name": "stdout",
          "text": [
            "Veja que coisa interessante\n",
            "       vamos fazer uma coisa \"nova\"\n",
            "       com vários 'tipos' de dados e, várias\n",
            "               informações\n"
          ]
        }
      ]
    },
    {
      "cell_type": "code",
      "source": [
        "x=10\n",
        "print(type(x))"
      ],
      "metadata": {
        "colab": {
          "base_uri": "https://localhost:8080/"
        },
        "id": "Yau1dmUom-Ej",
        "outputId": "eae961b7-4c42-4b96-df89-0183106d7100"
      },
      "execution_count": null,
      "outputs": [
        {
          "output_type": "stream",
          "name": "stdout",
          "text": [
            "<class 'int'>\n"
          ]
        }
      ]
    },
    {
      "cell_type": "code",
      "source": [
        "type(x)"
      ],
      "metadata": {
        "colab": {
          "base_uri": "https://localhost:8080/"
        },
        "id": "tbY6OTqmnxhN",
        "outputId": "9644b801-ef97-490b-ad92-76c18c502a05"
      },
      "execution_count": null,
      "outputs": [
        {
          "output_type": "execute_result",
          "data": {
            "text/plain": [
              "int"
            ]
          },
          "metadata": {},
          "execution_count": 17
        }
      ]
    },
    {
      "cell_type": "code",
      "source": [
        "y='palavra'\n",
        "t=3.59\n",
        "u=True\n",
        "v=None\n",
        "print(type(y))\n",
        "print(type(t))\n",
        "print(type(u))\n",
        "print(type(v))"
      ],
      "metadata": {
        "colab": {
          "base_uri": "https://localhost:8080/"
        },
        "id": "oRsx8lwIn9QP",
        "outputId": "c240b776-66d7-4ec0-bb02-c516e7710d4e"
      },
      "execution_count": null,
      "outputs": [
        {
          "output_type": "stream",
          "name": "stdout",
          "text": [
            "<class 'str'>\n",
            "<class 'float'>\n",
            "<class 'bool'>\n",
            "<class 'NoneType'>\n"
          ]
        }
      ]
    },
    {
      "cell_type": "code",
      "source": [
        "x=5\n",
        "y=1\n",
        "s='teste'\n",
        "\n",
        "print('x>y:', x>(y+2))\n",
        "print('x<=4.564:', x<=(4.564+1))\n",
        "print('s==teste:', s!='teste')\n",
        "print('(y*0==false:', (y*0)==False)\n",
        "print('s!=teste1:', s!='teste1')"
      ],
      "metadata": {
        "colab": {
          "base_uri": "https://localhost:8080/"
        },
        "id": "2PgJqlcDoSZ9",
        "outputId": "7c12885d-5c62-4ee6-9015-fa47b4d982ff"
      },
      "execution_count": null,
      "outputs": [
        {
          "output_type": "stream",
          "name": "stdout",
          "text": [
            "x>y: True\n",
            "x<=4.564: True\n",
            "s==teste: False\n",
            "(y*0==false: True\n",
            "s!=teste1: True\n"
          ]
        }
      ]
    },
    {
      "cell_type": "markdown",
      "source": [
        "Operador de Acesso das Strings"
      ],
      "metadata": {
        "id": "w0vW0A9Gsaw8"
      }
    },
    {
      "cell_type": "code",
      "source": [
        "palavra='consolação'\n",
        "\n",
        "#indice positivos\n",
        "print('VALORES POSITIVOS')\n",
        "print('primeiro caracter:', palavra[0])\n",
        "print('segundo caracter:', palavra[1])\n",
        "print('terceiro caracter:', palavra[2])\n",
        "print('quarto caracter:', palavra[3])\n",
        "print('sétimo caracter:', palavra[8])\n",
        "print('último caracter:', palavra[9])\n",
        "\n",
        "print('')\n",
        "\n",
        "#indice negativos\n",
        "print('VALORES NEGATIVOS')\n",
        "print('primeiro caracter:', palavra[-10])\n",
        "print('segundo caracter:', palavra[-9])\n",
        "print('terceiro caracter:', palavra[-8])\n",
        "print('quarto caracter:', palavra[-7])\n",
        "print('sétimo caracter:', palavra[-2])\n",
        "print('último caracter:', palavra[-1])\n",
        "\n",
        "print('')\n",
        "\n",
        "#faixa de itens\n",
        "print('de 0 a 3:', palavra[0:4])\n",
        "print('de 7 ao final:', palavra[7:])"
      ],
      "metadata": {
        "colab": {
          "base_uri": "https://localhost:8080/"
        },
        "id": "_6t5O5wJsd6a",
        "outputId": "a68e3eb6-728c-4c16-ebf2-ed4e684ef2f7"
      },
      "execution_count": null,
      "outputs": [
        {
          "output_type": "stream",
          "name": "stdout",
          "text": [
            "VALORES POSITIVOS\n",
            "primeiro caracter: c\n",
            "segundo caracter: o\n",
            "terceiro caracter: n\n",
            "quarto caracter: s\n",
            "sétimo caracter: ã\n",
            "último caracter: o\n",
            "\n",
            "VALORES NEGATIVOS\n",
            "primeiro caracter: c\n",
            "segundo caracter: o\n",
            "terceiro caracter: n\n",
            "quarto caracter: s\n",
            "sétimo caracter: ã\n",
            "último caracter: o\n",
            "\n",
            "de 0 a 3: cons\n",
            "de 7 ao final: ção\n"
          ]
        }
      ]
    },
    {
      "cell_type": "code",
      "source": [
        "s1 = 'Belo'\n",
        "s2 = 'Horizonte'\n",
        "# Concatenação (+)\n",
        "print(s1 + s2)\n",
        "print(s1 + ' ' + s2)\n",
        "print(s1 + ' Monte')\n",
        "# Repetição\n",
        "print(s1 * 5)\n",
        "print((s1 + ', ') * 4)"
      ],
      "metadata": {
        "colab": {
          "base_uri": "https://localhost:8080/"
        },
        "id": "mAemh3_asXfe",
        "outputId": "3b70ec59-2c6b-420b-92d7-befea28a6a1d"
      },
      "execution_count": null,
      "outputs": [
        {
          "output_type": "stream",
          "name": "stdout",
          "text": [
            "BeloHorizonte\n",
            "Belo Horizonte\n",
            "Belo Monte\n",
            "BeloBeloBeloBeloBelo\n",
            "Belo, Belo, Belo, Belo, \n"
          ]
        }
      ]
    },
    {
      "cell_type": "code",
      "source": [
        "len(palavra)"
      ],
      "metadata": {
        "colab": {
          "base_uri": "https://localhost:8080/"
        },
        "id": "dNdpLBVMuuth",
        "outputId": "65d325ec-a1af-42c2-c37c-39661786b1a9"
      },
      "execution_count": null,
      "outputs": [
        {
          "output_type": "execute_result",
          "data": {
            "text/plain": [
              "10"
            ]
          },
          "metadata": {},
          "execution_count": 33
        }
      ]
    },
    {
      "cell_type": "code",
      "source": [
        "s1 = 'Belo Horizonte'\n",
        "s2 = 'Esta é uma frase, com uma vírgula.'\n",
        "print(s1.upper()) # todas as letras maiúsculas\n",
        "print(s1.lower()) # todas as letras minúsculas\n",
        "print(s2.title()) # primeira letra de cada palavra em maísculo\n",
        "print(s1.replace('Horizonte', 'Monte')) # substitui 'Horizonte' por 'Monte'\n",
        "print(s1.startswith('Belo')) # verifica se a string começa com 'Belo'\n",
        "print(s1.endswith('Monte')) # verifica se a string termina com 'Monte'\n",
        "print(s2.find('frase')) # retorna o índice da primeira ocorrência da palavra frase\n",
        "print(s2.split()) # particiona a string em outras, que são separadas por um espaço\n",
        "print(s2.split(',')) # particiona a string em outras, que são separadas por ','\n",
        "s3 = ' palavra com espaços '\n",
        "print(s3.strip()) # remove os espaços extras no início e fim da string"
      ],
      "metadata": {
        "colab": {
          "base_uri": "https://localhost:8080/"
        },
        "id": "84hEkOa_uxeY",
        "outputId": "5feda70b-ea98-4c4a-a817-30574cb81a4d"
      },
      "execution_count": null,
      "outputs": [
        {
          "output_type": "stream",
          "name": "stdout",
          "text": [
            "BELO HORIZONTE\n",
            "belo horizonte\n",
            "Esta É Uma Frase, Com Uma Vírgula.\n",
            "Belo Monte\n",
            "True\n",
            "False\n",
            "11\n",
            "['Esta', 'é', 'uma', 'frase,', 'com', 'uma', 'vírgula.']\n",
            "['Esta é uma frase', ' com uma vírgula.']\n",
            "palavra com espaços\n"
          ]
        }
      ]
    },
    {
      "cell_type": "markdown",
      "source": [
        "##Conversão de tipo de dados."
      ],
      "metadata": {
        "id": "UmMT0k8Ex_W9"
      }
    },
    {
      "cell_type": "code",
      "source": [
        "nascimento=1998\n",
        "ano_atual=2023\n",
        "idade=ano_atual-nascimento\n",
        "print('Eu tenho '+str(idade)+' anos')"
      ],
      "metadata": {
        "colab": {
          "base_uri": "https://localhost:8080/"
        },
        "id": "5QQHsvP1yCGM",
        "outputId": "e44ec0a4-7645-47fe-9d5f-d652e383c1f6"
      },
      "execution_count": null,
      "outputs": [
        {
          "output_type": "stream",
          "name": "stdout",
          "text": [
            "Eu tenho 25 anos\n"
          ]
        }
      ]
    },
    {
      "cell_type": "code",
      "source": [
        "#conversão do tipo int\n",
        "print(float(10)) # 10.0\n",
        "print(bool(-1)) # True\n",
        "print(bool(0)) # False\n",
        "#conversão do tipo float\n",
        "print(int(9.999)) # 9\n",
        "print(bool(-0.99)) # True\n",
        "print(str(-0.99)) # '-0.99'\n",
        "#conversão do tipo bool\n",
        "print(int(True)) # 1\n",
        "print(float(False)) # 0.0\n",
        "print(str(True)) # 'True'\n",
        "#conversão do tipo str\n",
        "print(int('-99')) # 99\n",
        "print(float('0.01')) # 0.00001\n",
        "print(bool('palavra')) # True\n",
        "print(bool('')) # False\n",
        "\n",
        "x= 10\n",
        "print('Valor:', x, '--', type(x))\n",
        "# atribuição do valor None à variável x\n",
        "x = None\n",
        "print('Valor:', x, '--', type(x))"
      ],
      "metadata": {
        "colab": {
          "base_uri": "https://localhost:8080/"
        },
        "id": "yNHJOhCPyRMu",
        "outputId": "39386fe5-d58c-4eb9-fb83-541765dab679"
      },
      "execution_count": null,
      "outputs": [
        {
          "output_type": "stream",
          "name": "stdout",
          "text": [
            "10.0\n",
            "True\n",
            "False\n",
            "9\n",
            "True\n",
            "-0.99\n",
            "1\n",
            "0.0\n",
            "True\n",
            "-99\n",
            "0.01\n",
            "True\n",
            "False\n",
            "Valor: 10 -- <class 'int'>\n",
            "Valor: None -- <class 'NoneType'>\n"
          ]
        }
      ]
    },
    {
      "cell_type": "code",
      "source": [
        "print(f'Eu tenho {idade} anos')"
      ],
      "metadata": {
        "colab": {
          "base_uri": "https://localhost:8080/"
        },
        "id": "zWFwvi_uzfrE",
        "outputId": "bc1919a7-90b0-4753-a632-de8e8faa049a"
      },
      "execution_count": null,
      "outputs": [
        {
          "output_type": "stream",
          "name": "stdout",
          "text": [
            "Eu tenho 25 anos\n"
          ]
        }
      ]
    },
    {
      "cell_type": "code",
      "source": [
        "print(f'Eu tenho {ano_atual-nascimento} anos')"
      ],
      "metadata": {
        "colab": {
          "base_uri": "https://localhost:8080/"
        },
        "id": "Qw49KcaIznRN",
        "outputId": "30c9eac8-fc30-446e-b6ad-0724ff3d51f2"
      },
      "execution_count": null,
      "outputs": [
        {
          "output_type": "stream",
          "name": "stdout",
          "text": [
            "Eu tenho 25 anos\n"
          ]
        }
      ]
    },
    {
      "cell_type": "code",
      "source": [
        "palavra\n"
      ],
      "metadata": {
        "colab": {
          "base_uri": "https://localhost:8080/",
          "height": 36
        },
        "id": "_JqgJ7THz0Dz",
        "outputId": "98e633d2-d84c-43d6-8dff-cb387c4dcbbc"
      },
      "execution_count": null,
      "outputs": [
        {
          "output_type": "execute_result",
          "data": {
            "text/plain": [
              "'consolação'"
            ],
            "application/vnd.google.colaboratory.intrinsic+json": {
              "type": "string"
            }
          },
          "metadata": {},
          "execution_count": 42
        }
      ]
    },
    {
      "cell_type": "code",
      "source": [
        "print(f'A palavra {palavra.upper()} possui {len(palavra)} letras')"
      ],
      "metadata": {
        "colab": {
          "base_uri": "https://localhost:8080/"
        },
        "id": "ImQJ9ZB4z9Mz",
        "outputId": "c10c4f43-8671-4216-89e8-94c8569445af"
      },
      "execution_count": null,
      "outputs": [
        {
          "output_type": "stream",
          "name": "stdout",
          "text": [
            "A palavra CONSOLAÇÃO possui 10 letras\n"
          ]
        }
      ]
    },
    {
      "cell_type": "code",
      "source": [
        "orcamento = 4005\n",
        "vlr_gasto = 430\n",
        "pct = (vlr_gasto/orcamento) * 100\n",
        "print(f'Porcentagem já gasta do orçamento: {pct:.2f}%')\n",
        "print(f'Porcentagem já gasta do orçamento: {pct:.2%}')# cuidado com as transformações"
      ],
      "metadata": {
        "colab": {
          "base_uri": "https://localhost:8080/"
        },
        "id": "C4r8wmMd0KSj",
        "outputId": "7f931dc7-98b4-4485-e5e0-f7ddfd7430ca"
      },
      "execution_count": null,
      "outputs": [
        {
          "output_type": "stream",
          "name": "stdout",
          "text": [
            "Porcentagem já gasta do orçamento: 10.74%\n",
            "Porcentagem já gasta do orçamento: 1073.66%\n"
          ]
        }
      ]
    },
    {
      "cell_type": "markdown",
      "source": [
        "##Testes de condição"
      ],
      "metadata": {
        "id": "nOmno6zJ5iAL"
      }
    },
    {
      "cell_type": "code",
      "source": [
        "# Exemplo em que a condição é verdadeira\n",
        "idade=16\n",
        "\n",
        "if idade >=18:\n",
        "  print('Idade suficiente para CHH!')\n",
        "else:\n",
        "  print('Idade não suficiente para CNH!')"
      ],
      "metadata": {
        "colab": {
          "base_uri": "https://localhost:8080/"
        },
        "id": "7Tbf0fYT0iU-",
        "outputId": "e7d4eb38-eb4c-4436-8bad-c5b7048bccf3"
      },
      "execution_count": null,
      "outputs": [
        {
          "output_type": "stream",
          "name": "stdout",
          "text": [
            "Idade não suficiente para CNH!\n"
          ]
        }
      ]
    },
    {
      "cell_type": "code",
      "source": [
        "# verifica aptidão para se aposentar\n",
        "idade=50\n",
        "tempo_contrib=38\n",
        "if idade>=65:\n",
        "  print('Habilitado para aposentadoria por idade!')\n",
        "elif tempo_contrib >=35:\n",
        "  print('Habilidado para aposentadoria por tempo de contribuição!')\n",
        "else:\n",
        "  print('Não hapto para aposentadoria!')"
      ],
      "metadata": {
        "colab": {
          "base_uri": "https://localhost:8080/"
        },
        "id": "mZG2SPzo5vxM",
        "outputId": "5e48d842-3879-44f3-e646-40a69194f67e"
      },
      "execution_count": null,
      "outputs": [
        {
          "output_type": "stream",
          "name": "stdout",
          "text": [
            "Habilidado para aposentadoria por tempo de contribuição!\n"
          ]
        }
      ]
    },
    {
      "cell_type": "markdown",
      "source": [
        "Estruturas de repetição"
      ],
      "metadata": {
        "id": "hLX2SWgv7sim"
      }
    },
    {
      "cell_type": "code",
      "source": [
        "n=15\n",
        "soma=0\n",
        "contador=0\n",
        "\n",
        "while contador <=n:\n",
        "  soma+=contador\n",
        "  contador=contador+1\n",
        "\n",
        "print(f'A soma dos primeiros {n} inteiros é {soma}')"
      ],
      "metadata": {
        "id": "1umt4bmp6Ibi",
        "colab": {
          "base_uri": "https://localhost:8080/"
        },
        "outputId": "7a5a8cc8-4a3c-40b4-c4c3-2dcc38d7444a"
      },
      "execution_count": null,
      "outputs": [
        {
          "output_type": "stream",
          "name": "stdout",
          "text": [
            "A soma dos primeiros 15 inteiros é 120\n"
          ]
        }
      ]
    },
    {
      "cell_type": "code",
      "source": [
        "p='araraquara'\n",
        "contador=0\n",
        "for letra in p:\n",
        "  if letra=='a':\n",
        "    contador=contador+1\n",
        "print(f\"A palavra{p} possuí {contador} letras'a'\")"
      ],
      "metadata": {
        "colab": {
          "base_uri": "https://localhost:8080/"
        },
        "id": "44G1vknf1CQW",
        "outputId": "fd1750f2-4f59-47f3-cb94-806a08217de8"
      },
      "execution_count": null,
      "outputs": [
        {
          "output_type": "stream",
          "name": "stdout",
          "text": [
            "A palavraararaquara possuí 5 letras'a'\n"
          ]
        }
      ]
    },
    {
      "cell_type": "code",
      "source": [
        "# 0, 1, 2, 3, 4\n",
        "range(5)\n",
        "# 3, 4, 5, 6, 7\n",
        "range(3, 8)\n",
        "# 0, 5, 10, 15, 20\n",
        "range(0, 21, 5)\n",
        "# 2, 4, 6, 8\n",
        "range(2, 10, 2)"
      ],
      "metadata": {
        "colab": {
          "base_uri": "https://localhost:8080/"
        },
        "id": "Rk2bzCrc24kL",
        "outputId": "d09c23f8-7201-43f2-8eeb-940643c4ac67"
      },
      "execution_count": null,
      "outputs": [
        {
          "output_type": "execute_result",
          "data": {
            "text/plain": [
              "range(2, 10, 2)"
            ]
          },
          "metadata": {},
          "execution_count": 8
        }
      ]
    },
    {
      "cell_type": "code",
      "source": [
        "n=15\n",
        "soma=0\n",
        "for num in range(n+1):\n",
        "  soma=soma+num\n",
        "print(f'A soma dos primeiros {n} inteiros é {soma}')"
      ],
      "metadata": {
        "colab": {
          "base_uri": "https://localhost:8080/"
        },
        "id": "eOuj46v83T4i",
        "outputId": "5804219e-c38a-47c8-97eb-24197c70e1d4"
      },
      "execution_count": null,
      "outputs": [
        {
          "output_type": "stream",
          "name": "stdout",
          "text": [
            "A soma dos primeiros 15 inteiros é 120\n"
          ]
        }
      ]
    },
    {
      "cell_type": "code",
      "source": [
        "# encontra o primeiro número divisível\n",
        "for num in range(250,301):\n",
        "  #verifica se o número é divisível por 21\n",
        "  if num%21==0:\n",
        "    print(f'Numero encontrado: {num}')\n",
        "    #se form divisível por 21, interrompe a busca\n",
        "    break"
      ],
      "metadata": {
        "colab": {
          "base_uri": "https://localhost:8080/"
        },
        "id": "8PcYLXDk3kUi",
        "outputId": "cec5450a-0804-4bdb-b1af-c5b895ac7791"
      },
      "execution_count": null,
      "outputs": [
        {
          "output_type": "stream",
          "name": "stdout",
          "text": [
            "Numero encontrado: 252\n",
            "Numero encontrado: 273\n",
            "Numero encontrado: 294\n"
          ]
        }
      ]
    },
    {
      "cell_type": "markdown",
      "source": [
        "##Estrutura de Dados..."
      ],
      "metadata": {
        "id": "aiu77v0Y4eB4"
      }
    },
    {
      "cell_type": "markdown",
      "source": [
        "### LISTAS \n"
      ],
      "metadata": {
        "id": "P00GHIteqKAQ"
      }
    },
    {
      "cell_type": "code",
      "source": [
        "## tipos não-primitivos de dados\n",
        "# LISTAS\n",
        "\n",
        "A=[2,3,5,7]\n",
        "A"
      ],
      "metadata": {
        "id": "f-b-Sjkx4P4a",
        "colab": {
          "base_uri": "https://localhost:8080/"
        },
        "outputId": "09327648-12aa-49ab-92ec-996259dbb728"
      },
      "execution_count": null,
      "outputs": [
        {
          "output_type": "execute_result",
          "data": {
            "text/plain": [
              "[2, 3, 5, 7]"
            ]
          },
          "metadata": {},
          "execution_count": 7
        }
      ]
    },
    {
      "cell_type": "code",
      "source": [
        "#Lista com valores heterogêneos\n",
        "B=[2, 'a', 5.44, True]\n",
        "B"
      ],
      "metadata": {
        "colab": {
          "base_uri": "https://localhost:8080/"
        },
        "id": "PbeRebGZnrNl",
        "outputId": "3cde99b3-908a-435a-df1a-581054477685"
      },
      "execution_count": null,
      "outputs": [
        {
          "output_type": "execute_result",
          "data": {
            "text/plain": [
              "[2, 'a', 5.44, True]"
            ]
          },
          "metadata": {},
          "execution_count": 8
        }
      ]
    },
    {
      "cell_type": "code",
      "source": [
        "# Listas com outras listas dentro (listas aninhadas)\n",
        "l = [0, 1]\n",
        "C=[l, 'dois', 'três', [4, 5], 'seis']\n",
        "C"
      ],
      "metadata": {
        "colab": {
          "base_uri": "https://localhost:8080/"
        },
        "id": "qc6z8LgBn3x4",
        "outputId": "349ea786-538d-4635-b521-7f8f37747905"
      },
      "execution_count": null,
      "outputs": [
        {
          "output_type": "execute_result",
          "data": {
            "text/plain": [
              "[[0, 1], 'dois', 'três', [4, 5], 'seis']"
            ]
          },
          "metadata": {},
          "execution_count": 10
        }
      ]
    },
    {
      "cell_type": "code",
      "source": [
        "# Lista vazia\n",
        "l = []\n",
        "print(l)"
      ],
      "metadata": {
        "colab": {
          "base_uri": "https://localhost:8080/"
        },
        "id": "zDvLYIb7n6S4",
        "outputId": "fc41f0e6-5764-4eca-d8bd-522cb09ba782"
      },
      "execution_count": null,
      "outputs": [
        {
          "output_type": "stream",
          "name": "stdout",
          "text": [
            "[]\n"
          ]
        }
      ]
    },
    {
      "cell_type": "code",
      "source": [
        "lista = [2, 'a', 5.44, True, None, 'casa']\n",
        "# acesso por índices\n",
        "print(lista[0])\n",
        "print(lista[3])\n",
        "print(lista[-1])\n",
        "# acesso por slices\n",
        "print(lista[1:4])\n",
        "print(lista[-2:])\n",
        "print(lista[:])"
      ],
      "metadata": {
        "colab": {
          "base_uri": "https://localhost:8080/"
        },
        "id": "8Ofg3DqGn8s4",
        "outputId": "2a531f1d-eeac-4ca8-c542-4f9fb048db73"
      },
      "execution_count": null,
      "outputs": [
        {
          "output_type": "stream",
          "name": "stdout",
          "text": [
            "2\n",
            "True\n",
            "casa\n",
            "['a', 5.44, True]\n",
            "[None, 'casa']\n",
            "[2, 'a', 5.44, True, None, 'casa']\n"
          ]
        }
      ]
    },
    {
      "cell_type": "code",
      "source": [
        "#busca o maior valor dentro de uma lista\n",
        "# cria uma lista para armazenar as 10 idades\n",
        "idades = [27, 49, 12, 67, 21, 32, 18, 45, 84, 53, 22, 56, 80, 35, 18]\n",
        "\n",
        "#inicia o primeiro como maior idade\n",
        "#neste caso a iteração irá varrer a lista fazendo uma compraração simples entre os valres\n",
        "maior_idade = idades[0]\n",
        "\n",
        "#itera a lista para verificar a maior idade\n",
        "for idade in idades:\n",
        "  if idade>maior_idade:\n",
        "    maior_idade = idade\n",
        "\n",
        "#exibe a maior idade encontrada\n",
        "print('Maior idade:',maior_idade)"
      ],
      "metadata": {
        "colab": {
          "base_uri": "https://localhost:8080/"
        },
        "id": "dkyzsO8UoUI5",
        "outputId": "983c157c-2572-49df-b3d6-4657d984b0e3"
      },
      "execution_count": null,
      "outputs": [
        {
          "output_type": "stream",
          "name": "stdout",
          "text": [
            "Maior idade: 84\n"
          ]
        }
      ]
    },
    {
      "cell_type": "code",
      "source": [
        "#adicionando itens à lista\n",
        "idades.append(37)\n",
        "idades"
      ],
      "metadata": {
        "colab": {
          "base_uri": "https://localhost:8080/"
        },
        "id": "WAmkuWC0psHC",
        "outputId": "e103f282-3001-41b4-9fde-8d1c39005740"
      },
      "execution_count": null,
      "outputs": [
        {
          "output_type": "execute_result",
          "data": {
            "text/plain": [
              "[27, 49, 12, 67, 21, 32, 18, 45, 84, 53, 22, 56, 80, 35, 18, 37]"
            ]
          },
          "metadata": {},
          "execution_count": 16
        }
      ]
    },
    {
      "cell_type": "code",
      "source": [
        "# Altera o valor do quarto e o do penúltimo elemento\n",
        "idades[3]=13\n",
        "idades[-2]=19\n",
        "idades"
      ],
      "metadata": {
        "colab": {
          "base_uri": "https://localhost:8080/"
        },
        "id": "qIa2sF5yqncY",
        "outputId": "75e858dd-4a39-452c-a593-a22b5731cf9c"
      },
      "execution_count": null,
      "outputs": [
        {
          "output_type": "execute_result",
          "data": {
            "text/plain": [
              "[27, 49, 12, 13, 21, 32, 18, 45, 84, 53, 22, 56, 80, 35, 19, 37]"
            ]
          },
          "metadata": {},
          "execution_count": 17
        }
      ]
    },
    {
      "cell_type": "code",
      "source": [
        "# Remove a primeira ocorrência do elemento 22\n",
        "idades.append(22)\n",
        "#para evitar erros inserimos o 22 antes de excluir.\n",
        "idades.remove(22)\n",
        "idades"
      ],
      "metadata": {
        "colab": {
          "base_uri": "https://localhost:8080/"
        },
        "id": "IeblU6OPrii3",
        "outputId": "6e24601d-4e12-4ca2-cb3d-cb1e0508a232"
      },
      "execution_count": null,
      "outputs": [
        {
          "output_type": "execute_result",
          "data": {
            "text/plain": [
              "[27, 49, 12, 13, 21, 32, 18, 45, 84, 53, 56, 80, 35, 19, 37]"
            ]
          },
          "metadata": {},
          "execution_count": 23
        }
      ]
    },
    {
      "cell_type": "code",
      "source": [
        "idades\n"
      ],
      "metadata": {
        "colab": {
          "base_uri": "https://localhost:8080/"
        },
        "id": "sqWG4artr5sO",
        "outputId": "0c63fd9d-9553-4f05-c3fc-b00e5a08a7d0"
      },
      "execution_count": null,
      "outputs": [
        {
          "output_type": "execute_result",
          "data": {
            "text/plain": [
              "[27, 49, 12, 13, 21, 32, 18, 45, 84, 53, 56, 80, 35, 19, 37]"
            ]
          },
          "metadata": {},
          "execution_count": 22
        }
      ]
    },
    {
      "cell_type": "code",
      "source": [
        "l1 = [30, 10, 20]\n",
        "l2 = [2, 'a', 5.44, True]\n",
        "\n",
        "#operações de concatenação +, repetição * e filiação in\n",
        "print(l1 + l2)\n",
        "print(l1 * 3)\n",
        "print(10 in l1)\n",
        "print(10 in l2)"
      ],
      "metadata": {
        "colab": {
          "base_uri": "https://localhost:8080/"
        },
        "id": "_YqiJ63zuCjR",
        "outputId": "cecab7eb-e4d2-44d1-e816-56f36be056e2"
      },
      "execution_count": null,
      "outputs": [
        {
          "output_type": "stream",
          "name": "stdout",
          "text": [
            "[30, 10, 20, 2, 'a', 5.44, True]\n",
            "[30, 10, 20, 30, 10, 20, 30, 10, 20]\n",
            "True\n",
            "False\n"
          ]
        }
      ]
    },
    {
      "cell_type": "code",
      "source": [
        "# Funções úteis\n",
        "print(len(l2)) # len: retorna a quantidade de elementos da lista.\n",
        "print(sum(l1)) # sum: retorna a soma dos elementos de uma lista.\n",
        "print(max(l1)) # max: retorna o maior elemento da lista (!!!!)"
      ],
      "metadata": {
        "colab": {
          "base_uri": "https://localhost:8080/"
        },
        "id": "FMrsGnnWuZnU",
        "outputId": "20c6d776-2a81-4c56-a71b-0ddd3465439d"
      },
      "execution_count": null,
      "outputs": [
        {
          "output_type": "stream",
          "name": "stdout",
          "text": [
            "4\n",
            "60\n",
            "30\n"
          ]
        }
      ]
    },
    {
      "cell_type": "code",
      "source": [
        "# Métodos que alteram os valores internos da lista\n",
        "l2.reverse() # reverse: inverte a ordem dos elementos\n",
        "print(l2)\n",
        "l1.extend([10, 20, 30, 40, 10]) # extend: adiciona elementos de outra sequência\n",
        "print(l1)\n",
        "l1.sort() # sort: ordena os valores da lista\n",
        "print(l1)\n",
        "l2.insert(2, 'novo valor') # insert: adiciona um elemento em um índice especifico\n",
        "print(l2)\n",
        "l2.pop() # pop: remove o último elemento da lista\n",
        "print(l2)\n",
        "l2.clear() # clear: limpa a lista, removendo todos os elementos\n",
        "print(l2)"
      ],
      "metadata": {
        "colab": {
          "base_uri": "https://localhost:8080/"
        },
        "id": "0O8wjI4fugft",
        "outputId": "5fd21141-f0ff-4427-d011-af5c3b3b2f80"
      },
      "execution_count": null,
      "outputs": [
        {
          "output_type": "stream",
          "name": "stdout",
          "text": [
            "[True, 5.44, 'a', 2]\n",
            "[30, 10, 20, 10, 20, 30, 40, 10]\n",
            "[10, 10, 10, 20, 20, 30, 30, 40]\n",
            "[True, 5.44, 'novo valor', 'a', 2]\n",
            "[True, 5.44, 'novo valor', 'a']\n",
            "[]\n"
          ]
        }
      ]
    },
    {
      "cell_type": "code",
      "source": [
        "# Métodos que retornam valores e não alteram a lista\n",
        "print(l1.index(40)) # index: retorna o índice da primeira ocorrência do elemento\n",
        "print(l1.count(10)) # count: conta as ocorrências do elemento"
      ],
      "metadata": {
        "colab": {
          "base_uri": "https://localhost:8080/"
        },
        "id": "ixULwDK7uwfM",
        "outputId": "e14ff3c1-081d-428a-a29e-887b72ccc1a2"
      },
      "execution_count": null,
      "outputs": [
        {
          "output_type": "stream",
          "name": "stdout",
          "text": [
            "7\n",
            "3\n"
          ]
        }
      ]
    },
    {
      "cell_type": "code",
      "source": [
        "#refazendo a busca de forma mais eficiente\n",
        "print(\"Elementos da lista 'idade':\", format(idades))\n",
        "print('Maior idade:', max(idades))"
      ],
      "metadata": {
        "colab": {
          "base_uri": "https://localhost:8080/"
        },
        "id": "plvF-SdYvDwE",
        "outputId": "740300b5-de76-48ea-9cbd-f014c6aefda8"
      },
      "execution_count": null,
      "outputs": [
        {
          "output_type": "stream",
          "name": "stdout",
          "text": [
            "Elementos da lista 'idade': [27, 49, 12, 13, 21, 32, 18, 45, 84, 53, 56, 80, 35, 19, 37]\n",
            "Maior idade: 84\n"
          ]
        }
      ]
    },
    {
      "cell_type": "markdown",
      "source": [
        "## Tuplas "
      ],
      "metadata": {
        "id": "eIbLNFnPwgdK"
      }
    },
    {
      "cell_type": "code",
      "source": [
        "# Criação de uma tupla homogênea\n",
        "tupla = (0, 1, 2, 3, 4)\n",
        "print(tupla)\n",
        "# Tupla heterogênea\n",
        "tupla2 = (2, 'a', 5.44, True, None)\n",
        "print(tupla2)\n",
        "# Tupla vazia\n",
        "tupla3 = ()\n",
        "print(tupla3)\n",
        "# acesso por índices\n",
        "print(tupla[0])\n",
        "print(tupla[3])\n",
        "print(tupla[-1])\n",
        "# acesso por slices\n",
        "print(tupla2[1:4])\n",
        "print(tupla2[-2:])\n",
        "print(tupla2[:])"
      ],
      "metadata": {
        "id": "LszqmXWFvXZD",
        "colab": {
          "base_uri": "https://localhost:8080/"
        },
        "outputId": "0ffc8779-d725-44a4-fbb5-f5d5cb04f648"
      },
      "execution_count": 1,
      "outputs": [
        {
          "output_type": "stream",
          "name": "stdout",
          "text": [
            "(0, 1, 2, 3, 4)\n",
            "(2, 'a', 5.44, True, None)\n",
            "()\n",
            "0\n",
            "3\n",
            "4\n",
            "('a', 5.44, True)\n",
            "(True, None)\n",
            "(2, 'a', 5.44, True, None)\n"
          ]
        }
      ]
    },
    {
      "cell_type": "code",
      "source": [
        "t1 = (30, 10, 20)\n",
        "t2 = (2, 'a', 5.44, True)\n",
        "# Operações de concatenação (+), repetição (*) e filiação (in)\n",
        "print(t1 + t2)\n",
        "print(t1 * 3)\n",
        "print(10 in t1)\n",
        "# Funções úteis\n",
        "print(len(t2)) # len: retorna a quantidade de elementos da tupla\n",
        "print(min(t1)) # min: retorna o menor elemento da tupla\n",
        "print(max(t1)) # max: retorna o maior elemento da tupla\n",
        "print(sum(t1)) # sum: retorna a soma dos elementos da tupla\n",
        "# Métodos que retornam valores\n",
        "print(t1.index(20)) # index: retorna o índice da primeira ocorrência do elemento\n",
        "print(t2.count('a')) # count: conta as ocorrências do elemento"
      ],
      "metadata": {
        "id": "ufZsj-1Pvd-i",
        "colab": {
          "base_uri": "https://localhost:8080/"
        },
        "outputId": "c42a6f4f-5e2f-4235-b68c-6d2bd44ccacf"
      },
      "execution_count": 2,
      "outputs": [
        {
          "output_type": "stream",
          "name": "stdout",
          "text": [
            "(30, 10, 20, 2, 'a', 5.44, True)\n",
            "(30, 10, 20, 30, 10, 20, 30, 10, 20)\n",
            "True\n",
            "4\n",
            "10\n",
            "30\n",
            "60\n",
            "2\n",
            "1\n"
          ]
        }
      ]
    }
  ]
}