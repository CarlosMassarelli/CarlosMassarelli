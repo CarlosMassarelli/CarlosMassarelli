{
  "nbformat": 4,
  "nbformat_minor": 0,
  "metadata": {
    "colab": {
      "provenance": [],
      "authorship_tag": "ABX9TyNSdpvWAXPZ9tgexPQt2E5y",
      "include_colab_link": true
    },
    "kernelspec": {
      "name": "python3",
      "display_name": "Python 3"
    },
    "language_info": {
      "name": "python"
    }
  },
  "cells": [
    {
      "cell_type": "markdown",
      "metadata": {
        "id": "view-in-github",
        "colab_type": "text"
      },
      "source": [
        "<a href=\"https://colab.research.google.com/github/CarlosMassarelli/CarlosMassarelli/blob/main/XPE_Estudando.ipynb\" target=\"_parent\"><img src=\"https://colab.research.google.com/assets/colab-badge.svg\" alt=\"Open In Colab\"/></a>"
      ]
    },
    {
      "cell_type": "markdown",
      "source": [
        "### **Estudos em Python... XPE**"
      ],
      "metadata": {
        "id": "LDYyPAfHfxFP"
      }
    },
    {
      "cell_type": "code",
      "execution_count": 1,
      "metadata": {
        "colab": {
          "base_uri": "https://localhost:8080/"
        },
        "id": "riAIIlZxfhhj",
        "outputId": "5de5a5d0-7a33-45e3-9629-682480b1cb4c"
      },
      "outputs": [
        {
          "output_type": "stream",
          "name": "stdout",
          "text": [
            "olá  carlos seja bem-vindo!\n"
          ]
        }
      ],
      "source": [
        "nome='carlos'\n",
        "print('olá ', nome, 'seja bem-vindo!')"
      ]
    },
    {
      "cell_type": "code",
      "source": [
        "#alguns testes\n",
        "limiar=5\n",
        "\n",
        "menores=[]#cria lista menores\n",
        "maiores=[]#cria lista maiores\n",
        "\n",
        "#divide os numeros de 1 a 10 em maiores e menores\n",
        "for i in range(10):\n",
        "  if (i<limiar):\n",
        "    menores.append(i)\n",
        "  elif (i>limiar):\n",
        "    maiores.append(i)\n",
        "\n",
        "#imprime valores das listas\n",
        "print('Resultado final')\n",
        "print('menores:', menores)\n",
        "print('maiores:', maiores)\n",
        "\n"
      ],
      "metadata": {
        "colab": {
          "base_uri": "https://localhost:8080/"
        },
        "id": "eL6sO6NEgYRB",
        "outputId": "bca44ad7-0fc3-4502-ede8-bc52496b403c"
      },
      "execution_count": 2,
      "outputs": [
        {
          "output_type": "stream",
          "name": "stdout",
          "text": [
            "Resultado final\n",
            "menores: [0, 1, 2, 3, 4]\n",
            "maiores: [6, 7, 8, 9]\n"
          ]
        }
      ]
    },
    {
      "cell_type": "code",
      "source": [
        "#codigos diversos\n",
        "x=4\n",
        "if x>5:\n",
        "  x *=2\n",
        "print (x) #mostra que a identação é significativa.\n",
        "\n",
        "print('fim')"
      ],
      "metadata": {
        "colab": {
          "base_uri": "https://localhost:8080/"
        },
        "id": "Q3isbaN8h5nj",
        "outputId": "041e431a-2b1e-47ee-dd8d-a8032f0d5eec"
      },
      "execution_count": 3,
      "outputs": [
        {
          "output_type": "stream",
          "name": "stdout",
          "text": [
            "4\n",
            "fim\n"
          ]
        }
      ]
    },
    {
      "cell_type": "code",
      "source": [
        "z='''Veja que coisa interessante\n",
        "       vamos fazer uma coisa \"nova\"\n",
        "       com vários 'tipos' de dados e, várias\n",
        "               informações'''\n",
        "print(z)"
      ],
      "metadata": {
        "colab": {
          "base_uri": "https://localhost:8080/"
        },
        "id": "NL5aFzjXis_E",
        "outputId": "dbb3ce72-aef3-42e6-9c68-cc2d4e2456c2"
      },
      "execution_count": 4,
      "outputs": [
        {
          "output_type": "stream",
          "name": "stdout",
          "text": [
            "Veja que coisa interessante\n",
            "       vamos fazer uma coisa \"nova\"\n",
            "       com vários 'tipos' de dados e, várias\n",
            "               informações\n"
          ]
        }
      ]
    },
    {
      "cell_type": "code",
      "source": [
        "x=10\n",
        "print(type(x))"
      ],
      "metadata": {
        "colab": {
          "base_uri": "https://localhost:8080/"
        },
        "id": "Yau1dmUom-Ej",
        "outputId": "491f281a-b453-4bac-99be-602a1b26cd9b"
      },
      "execution_count": 5,
      "outputs": [
        {
          "output_type": "stream",
          "name": "stdout",
          "text": [
            "<class 'int'>\n"
          ]
        }
      ]
    },
    {
      "cell_type": "code",
      "source": [
        "type(x)"
      ],
      "metadata": {
        "colab": {
          "base_uri": "https://localhost:8080/"
        },
        "id": "tbY6OTqmnxhN",
        "outputId": "e8dea115-d2bf-42e5-a093-1ee012305289"
      },
      "execution_count": 6,
      "outputs": [
        {
          "output_type": "execute_result",
          "data": {
            "text/plain": [
              "int"
            ]
          },
          "metadata": {},
          "execution_count": 6
        }
      ]
    },
    {
      "cell_type": "code",
      "source": [
        "y='palavra'\n",
        "t=3.59\n",
        "u=True\n",
        "v=None\n",
        "print(type(y))\n",
        "print(type(t))\n",
        "print(type(u))\n",
        "print(type(v))"
      ],
      "metadata": {
        "colab": {
          "base_uri": "https://localhost:8080/"
        },
        "id": "oRsx8lwIn9QP",
        "outputId": "284d934e-50ba-4a3a-a381-4ceb377c7e4f"
      },
      "execution_count": 7,
      "outputs": [
        {
          "output_type": "stream",
          "name": "stdout",
          "text": [
            "<class 'str'>\n",
            "<class 'float'>\n",
            "<class 'bool'>\n",
            "<class 'NoneType'>\n"
          ]
        }
      ]
    },
    {
      "cell_type": "code",
      "source": [
        "x=5\n",
        "y=1\n",
        "s='teste'\n",
        "\n",
        "print('x>y:', x>(y+2))\n",
        "print('x<=4.564:', x<=(4.564+1))\n",
        "print('s==teste:', s!='teste')\n",
        "print('(y*0==false:', (y*0)==False)\n",
        "print('s!=teste1:', s!='teste1')"
      ],
      "metadata": {
        "colab": {
          "base_uri": "https://localhost:8080/"
        },
        "id": "2PgJqlcDoSZ9",
        "outputId": "e226682d-b95a-4190-e5f1-f1b9dc084286"
      },
      "execution_count": 8,
      "outputs": [
        {
          "output_type": "stream",
          "name": "stdout",
          "text": [
            "x>y: True\n",
            "x<=4.564: True\n",
            "s==teste: False\n",
            "(y*0==false: True\n",
            "s!=teste1: True\n"
          ]
        }
      ]
    },
    {
      "cell_type": "markdown",
      "source": [
        "Operador de Acesso das Strings"
      ],
      "metadata": {
        "id": "w0vW0A9Gsaw8"
      }
    },
    {
      "cell_type": "code",
      "source": [
        "palavra='consolação'\n",
        "\n",
        "#indice positivos\n",
        "print('VALORES POSITIVOS')\n",
        "print('primeiro caracter:', palavra[0])\n",
        "print('segundo caracter:', palavra[1])\n",
        "print('terceiro caracter:', palavra[2])\n",
        "print('quarto caracter:', palavra[3])\n",
        "print('sétimo caracter:', palavra[8])\n",
        "print('último caracter:', palavra[9])\n",
        "\n",
        "print('')\n",
        "\n",
        "#indice negativos\n",
        "print('VALORES NEGATIVOS')\n",
        "print('primeiro caracter:', palavra[-10])\n",
        "print('segundo caracter:', palavra[-9])\n",
        "print('terceiro caracter:', palavra[-8])\n",
        "print('quarto caracter:', palavra[-7])\n",
        "print('sétimo caracter:', palavra[-2])\n",
        "print('último caracter:', palavra[-1])\n",
        "\n",
        "print('')\n",
        "\n",
        "#faixa de itens\n",
        "print('de 0 a 3:', palavra[0:4])\n",
        "print('de 7 ao final:', palavra[7:])"
      ],
      "metadata": {
        "colab": {
          "base_uri": "https://localhost:8080/"
        },
        "id": "_6t5O5wJsd6a",
        "outputId": "2f1868ed-9ec4-4acc-f3d7-57a80dfae3af"
      },
      "execution_count": 9,
      "outputs": [
        {
          "output_type": "stream",
          "name": "stdout",
          "text": [
            "VALORES POSITIVOS\n",
            "primeiro caracter: c\n",
            "segundo caracter: o\n",
            "terceiro caracter: n\n",
            "quarto caracter: s\n",
            "sétimo caracter: ã\n",
            "último caracter: o\n",
            "\n",
            "VALORES NEGATIVOS\n",
            "primeiro caracter: c\n",
            "segundo caracter: o\n",
            "terceiro caracter: n\n",
            "quarto caracter: s\n",
            "sétimo caracter: ã\n",
            "último caracter: o\n",
            "\n",
            "de 0 a 3: cons\n",
            "de 7 ao final: ção\n"
          ]
        }
      ]
    },
    {
      "cell_type": "code",
      "source": [
        "s1 = 'Belo'\n",
        "s2 = 'Horizonte'\n",
        "# Concatenação (+)\n",
        "print(s1 + s2)\n",
        "print(s1 + ' ' + s2)\n",
        "print(s1 + ' Monte')\n",
        "# Repetição\n",
        "print(s1 * 5)\n",
        "print((s1 + ', ') * 4)"
      ],
      "metadata": {
        "colab": {
          "base_uri": "https://localhost:8080/"
        },
        "id": "mAemh3_asXfe",
        "outputId": "7dca09e6-170b-49c6-fcf6-4534c10bed2a"
      },
      "execution_count": 10,
      "outputs": [
        {
          "output_type": "stream",
          "name": "stdout",
          "text": [
            "BeloHorizonte\n",
            "Belo Horizonte\n",
            "Belo Monte\n",
            "BeloBeloBeloBeloBelo\n",
            "Belo, Belo, Belo, Belo, \n"
          ]
        }
      ]
    },
    {
      "cell_type": "code",
      "source": [
        "len(palavra)"
      ],
      "metadata": {
        "colab": {
          "base_uri": "https://localhost:8080/"
        },
        "id": "dNdpLBVMuuth",
        "outputId": "21e003b4-6e53-4ec1-d34f-a9b4bf8eb308"
      },
      "execution_count": 11,
      "outputs": [
        {
          "output_type": "execute_result",
          "data": {
            "text/plain": [
              "10"
            ]
          },
          "metadata": {},
          "execution_count": 11
        }
      ]
    },
    {
      "cell_type": "code",
      "source": [
        "s1 = 'Belo Horizonte'\n",
        "s2 = 'Esta é uma frase, com uma vírgula.'\n",
        "print(s1.upper()) # todas as letras maiúsculas\n",
        "print(s1.lower()) # todas as letras minúsculas\n",
        "print(s2.title()) # primeira letra de cada palavra em maísculo\n",
        "print(s1.replace('Horizonte', 'Monte')) # substitui 'Horizonte' por 'Monte'\n",
        "print(s1.startswith('Belo')) # verifica se a string começa com 'Belo'\n",
        "print(s1.endswith('Monte')) # verifica se a string termina com 'Monte'\n",
        "print(s2.find('frase')) # retorna o índice da primeira ocorrência da palavra frase\n",
        "print(s2.split()) # particiona a string em outras, que são separadas por um espaço\n",
        "print(s2.split(',')) # particiona a string em outras, que são separadas por ','\n",
        "s3 = ' palavra com espaços '\n",
        "print(s3.strip()) # remove os espaços extras no início e fim da string"
      ],
      "metadata": {
        "colab": {
          "base_uri": "https://localhost:8080/"
        },
        "id": "84hEkOa_uxeY",
        "outputId": "b09efa93-4601-4893-b11b-306797e89488"
      },
      "execution_count": 12,
      "outputs": [
        {
          "output_type": "stream",
          "name": "stdout",
          "text": [
            "BELO HORIZONTE\n",
            "belo horizonte\n",
            "Esta É Uma Frase, Com Uma Vírgula.\n",
            "Belo Monte\n",
            "True\n",
            "False\n",
            "11\n",
            "['Esta', 'é', 'uma', 'frase,', 'com', 'uma', 'vírgula.']\n",
            "['Esta é uma frase', ' com uma vírgula.']\n",
            "palavra com espaços\n"
          ]
        }
      ]
    },
    {
      "cell_type": "markdown",
      "source": [
        "##Conversão de tipo de dados."
      ],
      "metadata": {
        "id": "UmMT0k8Ex_W9"
      }
    },
    {
      "cell_type": "code",
      "source": [
        "nascimento=1998\n",
        "ano_atual=2023\n",
        "idade=ano_atual-nascimento\n",
        "print('Eu tenho '+str(idade)+' anos')"
      ],
      "metadata": {
        "colab": {
          "base_uri": "https://localhost:8080/"
        },
        "id": "5QQHsvP1yCGM",
        "outputId": "5bc592aa-a120-4613-f268-c98879d3a210"
      },
      "execution_count": 13,
      "outputs": [
        {
          "output_type": "stream",
          "name": "stdout",
          "text": [
            "Eu tenho 25 anos\n"
          ]
        }
      ]
    },
    {
      "cell_type": "code",
      "source": [
        "#conversão do tipo int\n",
        "print(float(10)) # 10.0\n",
        "print(bool(-1)) # True\n",
        "print(bool(0)) # False\n",
        "#conversão do tipo float\n",
        "print(int(9.999)) # 9\n",
        "print(bool(-0.99)) # True\n",
        "print(str(-0.99)) # '-0.99'\n",
        "#conversão do tipo bool\n",
        "print(int(True)) # 1\n",
        "print(float(False)) # 0.0\n",
        "print(str(True)) # 'True'\n",
        "#conversão do tipo str\n",
        "print(int('-99')) # 99\n",
        "print(float('0.01')) # 0.00001\n",
        "print(bool('palavra')) # True\n",
        "print(bool('')) # False\n",
        "\n",
        "x= 10\n",
        "print('Valor:', x, '--', type(x))\n",
        "# atribuição do valor None à variável x\n",
        "x = None\n",
        "print('Valor:', x, '--', type(x))"
      ],
      "metadata": {
        "colab": {
          "base_uri": "https://localhost:8080/"
        },
        "id": "yNHJOhCPyRMu",
        "outputId": "efabfee2-f08d-48fd-ff5e-1e7b925635eb"
      },
      "execution_count": 14,
      "outputs": [
        {
          "output_type": "stream",
          "name": "stdout",
          "text": [
            "10.0\n",
            "True\n",
            "False\n",
            "9\n",
            "True\n",
            "-0.99\n",
            "1\n",
            "0.0\n",
            "True\n",
            "-99\n",
            "0.01\n",
            "True\n",
            "False\n",
            "Valor: 10 -- <class 'int'>\n",
            "Valor: None -- <class 'NoneType'>\n"
          ]
        }
      ]
    },
    {
      "cell_type": "code",
      "source": [
        "print(f'Eu tenho {idade} anos')"
      ],
      "metadata": {
        "colab": {
          "base_uri": "https://localhost:8080/"
        },
        "id": "zWFwvi_uzfrE",
        "outputId": "6a93e460-94da-4eb2-dc28-a3d51ebcf180"
      },
      "execution_count": 15,
      "outputs": [
        {
          "output_type": "stream",
          "name": "stdout",
          "text": [
            "Eu tenho 25 anos\n"
          ]
        }
      ]
    },
    {
      "cell_type": "code",
      "source": [
        "print(f'Eu tenho {ano_atual-nascimento} anos')"
      ],
      "metadata": {
        "colab": {
          "base_uri": "https://localhost:8080/"
        },
        "id": "Qw49KcaIznRN",
        "outputId": "b2169465-1e20-44c4-bed0-a253d8cfc812"
      },
      "execution_count": 16,
      "outputs": [
        {
          "output_type": "stream",
          "name": "stdout",
          "text": [
            "Eu tenho 25 anos\n"
          ]
        }
      ]
    },
    {
      "cell_type": "code",
      "source": [
        "palavra\n"
      ],
      "metadata": {
        "colab": {
          "base_uri": "https://localhost:8080/",
          "height": 36
        },
        "id": "_JqgJ7THz0Dz",
        "outputId": "5c46aac7-09a7-4407-a8dc-61fb5fdb5547"
      },
      "execution_count": 17,
      "outputs": [
        {
          "output_type": "execute_result",
          "data": {
            "text/plain": [
              "'consolação'"
            ],
            "application/vnd.google.colaboratory.intrinsic+json": {
              "type": "string"
            }
          },
          "metadata": {},
          "execution_count": 17
        }
      ]
    },
    {
      "cell_type": "code",
      "source": [
        "print(f'A palavra {palavra.upper()} possui {len(palavra)} letras')"
      ],
      "metadata": {
        "colab": {
          "base_uri": "https://localhost:8080/"
        },
        "id": "ImQJ9ZB4z9Mz",
        "outputId": "18c72807-9b22-4539-a190-2a96b19389c5"
      },
      "execution_count": 18,
      "outputs": [
        {
          "output_type": "stream",
          "name": "stdout",
          "text": [
            "A palavra CONSOLAÇÃO possui 10 letras\n"
          ]
        }
      ]
    },
    {
      "cell_type": "code",
      "source": [
        "orcamento = 4005\n",
        "vlr_gasto = 430\n",
        "pct = (vlr_gasto/orcamento) * 100\n",
        "print(f'Porcentagem já gasta do orçamento: {pct:.2f}%')\n",
        "print(f'Porcentagem já gasta do orçamento: {pct:.2%}')# cuidado com as transformações"
      ],
      "metadata": {
        "colab": {
          "base_uri": "https://localhost:8080/"
        },
        "id": "C4r8wmMd0KSj",
        "outputId": "8f15c455-b70f-4a8f-dfe0-694a7608cb00"
      },
      "execution_count": 19,
      "outputs": [
        {
          "output_type": "stream",
          "name": "stdout",
          "text": [
            "Porcentagem já gasta do orçamento: 10.74%\n",
            "Porcentagem já gasta do orçamento: 1073.66%\n"
          ]
        }
      ]
    },
    {
      "cell_type": "markdown",
      "source": [
        "##Testes de condição"
      ],
      "metadata": {
        "id": "nOmno6zJ5iAL"
      }
    },
    {
      "cell_type": "code",
      "source": [
        "# Exemplo em que a condição é verdadeira\n",
        "idade=16\n",
        "\n",
        "if idade >=18:\n",
        "  print('Idade suficiente para CHH!')\n",
        "else:\n",
        "  print('Idade não suficiente para CNH!')"
      ],
      "metadata": {
        "colab": {
          "base_uri": "https://localhost:8080/"
        },
        "id": "7Tbf0fYT0iU-",
        "outputId": "2ecc032a-d59d-4188-a92c-6f9e87a495dc"
      },
      "execution_count": 20,
      "outputs": [
        {
          "output_type": "stream",
          "name": "stdout",
          "text": [
            "Idade não suficiente para CNH!\n"
          ]
        }
      ]
    },
    {
      "cell_type": "code",
      "source": [
        "# verifica aptidão para se aposentar\n",
        "idade=50\n",
        "tempo_contrib=38\n",
        "if idade>=65:\n",
        "  print('Habilitado para aposentadoria por idade!')\n",
        "elif tempo_contrib >=35:\n",
        "  print('Habilidado para aposentadoria por tempo de contribuição!')\n",
        "else:\n",
        "  print('Não hapto para aposentadoria!')"
      ],
      "metadata": {
        "colab": {
          "base_uri": "https://localhost:8080/"
        },
        "id": "mZG2SPzo5vxM",
        "outputId": "277bf561-2638-4e03-d247-f02f88b97beb"
      },
      "execution_count": 21,
      "outputs": [
        {
          "output_type": "stream",
          "name": "stdout",
          "text": [
            "Habilidado para aposentadoria por tempo de contribuição!\n"
          ]
        }
      ]
    },
    {
      "cell_type": "markdown",
      "source": [
        "Estruturas de repetição"
      ],
      "metadata": {
        "id": "hLX2SWgv7sim"
      }
    },
    {
      "cell_type": "code",
      "source": [
        "n=15\n",
        "soma=0\n",
        "contador=0\n",
        "\n",
        "while contador <=n:\n",
        "  soma+=contador\n",
        "  contador=contador+1\n",
        "\n",
        "print(f'A soma dos primeiros {n} inteiros é {soma}')"
      ],
      "metadata": {
        "id": "1umt4bmp6Ibi",
        "colab": {
          "base_uri": "https://localhost:8080/"
        },
        "outputId": "e89f4485-6ed7-4075-bdf2-34e47e33bc0b"
      },
      "execution_count": 22,
      "outputs": [
        {
          "output_type": "stream",
          "name": "stdout",
          "text": [
            "A soma dos primeiros 15 inteiros é 120\n"
          ]
        }
      ]
    },
    {
      "cell_type": "code",
      "source": [
        "p='araraquara'\n",
        "contador=0\n",
        "for letra in p:\n",
        "  if letra=='a':\n",
        "    contador=contador+1\n",
        "print(f\"A palavra{p} possuí {contador} letras'a'\")"
      ],
      "metadata": {
        "colab": {
          "base_uri": "https://localhost:8080/"
        },
        "id": "44G1vknf1CQW",
        "outputId": "f288181e-86a8-4e06-8ade-94bcd2070f7f"
      },
      "execution_count": 23,
      "outputs": [
        {
          "output_type": "stream",
          "name": "stdout",
          "text": [
            "A palavraararaquara possuí 5 letras'a'\n"
          ]
        }
      ]
    },
    {
      "cell_type": "code",
      "source": [
        "# 0, 1, 2, 3, 4\n",
        "range(5)\n",
        "# 3, 4, 5, 6, 7\n",
        "range(3, 8)\n",
        "# 0, 5, 10, 15, 20\n",
        "range(0, 21, 5)\n",
        "# 2, 4, 6, 8\n",
        "range(2, 10, 2)"
      ],
      "metadata": {
        "colab": {
          "base_uri": "https://localhost:8080/"
        },
        "id": "Rk2bzCrc24kL",
        "outputId": "28f7806d-9f41-48d2-898d-e274b2b2c27e"
      },
      "execution_count": 24,
      "outputs": [
        {
          "output_type": "execute_result",
          "data": {
            "text/plain": [
              "range(2, 10, 2)"
            ]
          },
          "metadata": {},
          "execution_count": 24
        }
      ]
    },
    {
      "cell_type": "code",
      "source": [
        "n=15\n",
        "soma=0\n",
        "for num in range(n+1):\n",
        "  soma=soma+num\n",
        "print(f'A soma dos primeiros {n} inteiros é {soma}')"
      ],
      "metadata": {
        "colab": {
          "base_uri": "https://localhost:8080/"
        },
        "id": "eOuj46v83T4i",
        "outputId": "93929e16-11b4-4a7c-ecb2-00699e240194"
      },
      "execution_count": 25,
      "outputs": [
        {
          "output_type": "stream",
          "name": "stdout",
          "text": [
            "A soma dos primeiros 15 inteiros é 120\n"
          ]
        }
      ]
    },
    {
      "cell_type": "code",
      "source": [
        "# encontra o primeiro número divisível\n",
        "for num in range(250,301):\n",
        "  #verifica se o número é divisível por 21\n",
        "  if num%21==0:\n",
        "    print(f'Numero encontrado: {num}')\n",
        "    #se form divisível por 21, interrompe a busca\n",
        "    break"
      ],
      "metadata": {
        "colab": {
          "base_uri": "https://localhost:8080/"
        },
        "id": "8PcYLXDk3kUi",
        "outputId": "0023ace9-1e7b-40cb-f0ea-0f68c1d10a72"
      },
      "execution_count": 26,
      "outputs": [
        {
          "output_type": "stream",
          "name": "stdout",
          "text": [
            "Numero encontrado: 252\n"
          ]
        }
      ]
    },
    {
      "cell_type": "markdown",
      "source": [
        "##Estrutura de Dados..."
      ],
      "metadata": {
        "id": "aiu77v0Y4eB4"
      }
    },
    {
      "cell_type": "markdown",
      "source": [
        "### LISTAS \n"
      ],
      "metadata": {
        "id": "P00GHIteqKAQ"
      }
    },
    {
      "cell_type": "code",
      "source": [
        "## tipos não-primitivos de dados\n",
        "# LISTAS\n",
        "\n",
        "A=[2,3,5,7]\n",
        "A"
      ],
      "metadata": {
        "id": "f-b-Sjkx4P4a",
        "colab": {
          "base_uri": "https://localhost:8080/"
        },
        "outputId": "c58b7a4a-1cd9-4707-e318-f66694640d99"
      },
      "execution_count": 27,
      "outputs": [
        {
          "output_type": "execute_result",
          "data": {
            "text/plain": [
              "[2, 3, 5, 7]"
            ]
          },
          "metadata": {},
          "execution_count": 27
        }
      ]
    },
    {
      "cell_type": "code",
      "source": [
        "#Lista com valores heterogêneos\n",
        "B=[2, 'a', 5.44, True]\n",
        "B"
      ],
      "metadata": {
        "colab": {
          "base_uri": "https://localhost:8080/"
        },
        "id": "PbeRebGZnrNl",
        "outputId": "e38e55cd-363e-4664-a83a-fe187101368a"
      },
      "execution_count": 28,
      "outputs": [
        {
          "output_type": "execute_result",
          "data": {
            "text/plain": [
              "[2, 'a', 5.44, True]"
            ]
          },
          "metadata": {},
          "execution_count": 28
        }
      ]
    },
    {
      "cell_type": "code",
      "source": [
        "# Listas com outras listas dentro (listas aninhadas)\n",
        "l = [0, 1]\n",
        "C=[l, 'dois', 'três', [4, 5], 'seis']\n",
        "C"
      ],
      "metadata": {
        "colab": {
          "base_uri": "https://localhost:8080/"
        },
        "id": "qc6z8LgBn3x4",
        "outputId": "55f1675e-81cf-426e-c72a-2e247875ecfa"
      },
      "execution_count": 29,
      "outputs": [
        {
          "output_type": "execute_result",
          "data": {
            "text/plain": [
              "[[0, 1], 'dois', 'três', [4, 5], 'seis']"
            ]
          },
          "metadata": {},
          "execution_count": 29
        }
      ]
    },
    {
      "cell_type": "code",
      "source": [
        "# Lista vazia\n",
        "l = []\n",
        "print(l)"
      ],
      "metadata": {
        "colab": {
          "base_uri": "https://localhost:8080/"
        },
        "id": "zDvLYIb7n6S4",
        "outputId": "4d18a21e-3bd8-4fe0-9903-902fbd7ebb18"
      },
      "execution_count": 30,
      "outputs": [
        {
          "output_type": "stream",
          "name": "stdout",
          "text": [
            "[]\n"
          ]
        }
      ]
    },
    {
      "cell_type": "code",
      "source": [
        "lista = [2, 'a', 5.44, True, None, 'casa']\n",
        "# acesso por índices\n",
        "print(lista[0])\n",
        "print(lista[3])\n",
        "print(lista[-1])\n",
        "# acesso por slices\n",
        "print(lista[1:4])\n",
        "print(lista[-2:])\n",
        "print(lista[:])"
      ],
      "metadata": {
        "colab": {
          "base_uri": "https://localhost:8080/"
        },
        "id": "8Ofg3DqGn8s4",
        "outputId": "24b0f735-6785-41bf-a254-9d2e5c18ab3b"
      },
      "execution_count": 31,
      "outputs": [
        {
          "output_type": "stream",
          "name": "stdout",
          "text": [
            "2\n",
            "True\n",
            "casa\n",
            "['a', 5.44, True]\n",
            "[None, 'casa']\n",
            "[2, 'a', 5.44, True, None, 'casa']\n"
          ]
        }
      ]
    },
    {
      "cell_type": "code",
      "source": [
        "#busca o maior valor dentro de uma lista\n",
        "# cria uma lista para armazenar as 10 idades\n",
        "idades = [27, 49, 12, 67, 21, 32, 18, 45, 84, 53, 22, 56, 80, 35, 18]\n",
        "\n",
        "#inicia o primeiro como maior idade\n",
        "#neste caso a iteração irá varrer a lista fazendo uma compraração simples entre os valres\n",
        "maior_idade = idades[0]\n",
        "\n",
        "#itera a lista para verificar a maior idade\n",
        "for idade in idades:\n",
        "  if idade>maior_idade:\n",
        "    maior_idade = idade\n",
        "\n",
        "#exibe a maior idade encontrada\n",
        "print('Maior idade:',maior_idade)"
      ],
      "metadata": {
        "colab": {
          "base_uri": "https://localhost:8080/"
        },
        "id": "dkyzsO8UoUI5",
        "outputId": "7775d7be-3a43-41f9-9cc2-247acad42747"
      },
      "execution_count": 32,
      "outputs": [
        {
          "output_type": "stream",
          "name": "stdout",
          "text": [
            "Maior idade: 84\n"
          ]
        }
      ]
    },
    {
      "cell_type": "code",
      "source": [
        "#adicionando itens à lista\n",
        "idades.append(37)\n",
        "idades"
      ],
      "metadata": {
        "colab": {
          "base_uri": "https://localhost:8080/"
        },
        "id": "WAmkuWC0psHC",
        "outputId": "af1964be-98b0-46b0-8daa-78878a4ad258"
      },
      "execution_count": 33,
      "outputs": [
        {
          "output_type": "execute_result",
          "data": {
            "text/plain": [
              "[27, 49, 12, 67, 21, 32, 18, 45, 84, 53, 22, 56, 80, 35, 18, 37]"
            ]
          },
          "metadata": {},
          "execution_count": 33
        }
      ]
    },
    {
      "cell_type": "code",
      "source": [
        "# Altera o valor do quarto e o do penúltimo elemento\n",
        "idades[3]=13\n",
        "idades[-2]=19\n",
        "idades"
      ],
      "metadata": {
        "colab": {
          "base_uri": "https://localhost:8080/"
        },
        "id": "qIa2sF5yqncY",
        "outputId": "c7f15546-7da7-425a-f301-5d2a34bb5980"
      },
      "execution_count": 34,
      "outputs": [
        {
          "output_type": "execute_result",
          "data": {
            "text/plain": [
              "[27, 49, 12, 13, 21, 32, 18, 45, 84, 53, 22, 56, 80, 35, 19, 37]"
            ]
          },
          "metadata": {},
          "execution_count": 34
        }
      ]
    },
    {
      "cell_type": "code",
      "source": [
        "# Remove a primeira ocorrência do elemento 22\n",
        "idades.append(22)\n",
        "#para evitar erros inserimos o 22 antes de excluir.\n",
        "idades.remove(22)\n",
        "idades"
      ],
      "metadata": {
        "colab": {
          "base_uri": "https://localhost:8080/"
        },
        "id": "IeblU6OPrii3",
        "outputId": "45c5538d-5e66-429a-f6af-66e125e547d4"
      },
      "execution_count": 35,
      "outputs": [
        {
          "output_type": "execute_result",
          "data": {
            "text/plain": [
              "[27, 49, 12, 13, 21, 32, 18, 45, 84, 53, 56, 80, 35, 19, 37, 22]"
            ]
          },
          "metadata": {},
          "execution_count": 35
        }
      ]
    },
    {
      "cell_type": "code",
      "source": [
        "idades\n"
      ],
      "metadata": {
        "colab": {
          "base_uri": "https://localhost:8080/"
        },
        "id": "sqWG4artr5sO",
        "outputId": "efb450c3-0652-404b-d7c1-fa1149220beb"
      },
      "execution_count": 36,
      "outputs": [
        {
          "output_type": "execute_result",
          "data": {
            "text/plain": [
              "[27, 49, 12, 13, 21, 32, 18, 45, 84, 53, 56, 80, 35, 19, 37, 22]"
            ]
          },
          "metadata": {},
          "execution_count": 36
        }
      ]
    },
    {
      "cell_type": "code",
      "source": [
        "l1 = [30, 10, 20]\n",
        "l2 = [2, 'a', 5.44, True]\n",
        "\n",
        "#operações de concatenação +, repetição * e filiação in\n",
        "print(l1 + l2)\n",
        "print(l1 * 3)\n",
        "print(10 in l1)\n",
        "print(10 in l2)"
      ],
      "metadata": {
        "colab": {
          "base_uri": "https://localhost:8080/"
        },
        "id": "_YqiJ63zuCjR",
        "outputId": "b9d2443d-2c76-4095-e486-cdef5bc355cd"
      },
      "execution_count": 37,
      "outputs": [
        {
          "output_type": "stream",
          "name": "stdout",
          "text": [
            "[30, 10, 20, 2, 'a', 5.44, True]\n",
            "[30, 10, 20, 30, 10, 20, 30, 10, 20]\n",
            "True\n",
            "False\n"
          ]
        }
      ]
    },
    {
      "cell_type": "code",
      "source": [
        "# Funções úteis\n",
        "print(len(l2)) # len: retorna a quantidade de elementos da lista.\n",
        "print(sum(l1)) # sum: retorna a soma dos elementos de uma lista.\n",
        "print(max(l1)) # max: retorna o maior elemento da lista (!!!!)"
      ],
      "metadata": {
        "colab": {
          "base_uri": "https://localhost:8080/"
        },
        "id": "FMrsGnnWuZnU",
        "outputId": "a1a519d7-3264-4f08-bb8a-586433520e6d"
      },
      "execution_count": 38,
      "outputs": [
        {
          "output_type": "stream",
          "name": "stdout",
          "text": [
            "4\n",
            "60\n",
            "30\n"
          ]
        }
      ]
    },
    {
      "cell_type": "code",
      "source": [
        "# Métodos que alteram os valores internos da lista\n",
        "l2.reverse() # reverse: inverte a ordem dos elementos\n",
        "print(l2)\n",
        "l1.extend([10, 20, 30, 40, 10]) # extend: adiciona elementos de outra sequência\n",
        "print(l1)\n",
        "l1.sort() # sort: ordena os valores da lista\n",
        "print(l1)\n",
        "l2.insert(2, 'novo valor') # insert: adiciona um elemento em um índice especifico\n",
        "print(l2)\n",
        "l2.pop() # pop: remove o último elemento da lista\n",
        "print(l2)\n",
        "l2.clear() # clear: limpa a lista, removendo todos os elementos\n",
        "print(l2)"
      ],
      "metadata": {
        "colab": {
          "base_uri": "https://localhost:8080/"
        },
        "id": "0O8wjI4fugft",
        "outputId": "0758b38d-b2db-459c-ec22-11cf78871702"
      },
      "execution_count": 39,
      "outputs": [
        {
          "output_type": "stream",
          "name": "stdout",
          "text": [
            "[True, 5.44, 'a', 2]\n",
            "[30, 10, 20, 10, 20, 30, 40, 10]\n",
            "[10, 10, 10, 20, 20, 30, 30, 40]\n",
            "[True, 5.44, 'novo valor', 'a', 2]\n",
            "[True, 5.44, 'novo valor', 'a']\n",
            "[]\n"
          ]
        }
      ]
    },
    {
      "cell_type": "code",
      "source": [
        "# Métodos que retornam valores e não alteram a lista\n",
        "print(l1.index(40)) # index: retorna o índice da primeira ocorrência do elemento\n",
        "print(l1.count(10)) # count: conta as ocorrências do elemento"
      ],
      "metadata": {
        "colab": {
          "base_uri": "https://localhost:8080/"
        },
        "id": "ixULwDK7uwfM",
        "outputId": "fa6d3491-efa5-47eb-8adc-0979e8f76a5e"
      },
      "execution_count": 40,
      "outputs": [
        {
          "output_type": "stream",
          "name": "stdout",
          "text": [
            "7\n",
            "3\n"
          ]
        }
      ]
    },
    {
      "cell_type": "code",
      "source": [
        "#refazendo a busca de forma mais eficiente\n",
        "print(\"Elementos da lista 'idade':\", format(idades))\n",
        "print('Maior idade:', max(idades))"
      ],
      "metadata": {
        "colab": {
          "base_uri": "https://localhost:8080/"
        },
        "id": "plvF-SdYvDwE",
        "outputId": "c083c1c8-2ae6-40ab-8c57-982d3c08915b"
      },
      "execution_count": 41,
      "outputs": [
        {
          "output_type": "stream",
          "name": "stdout",
          "text": [
            "Elementos da lista 'idade': [27, 49, 12, 13, 21, 32, 18, 45, 84, 53, 56, 80, 35, 19, 37, 22]\n",
            "Maior idade: 84\n"
          ]
        }
      ]
    },
    {
      "cell_type": "markdown",
      "source": [
        "## Tuplas "
      ],
      "metadata": {
        "id": "eIbLNFnPwgdK"
      }
    },
    {
      "cell_type": "code",
      "source": [
        "# Criação de uma tupla homogênea\n",
        "tupla = (0, 1, 2, 3, 4)\n",
        "print(tupla)\n",
        "# Tupla heterogênea\n",
        "tupla2 = (2, 'a', 5.44, True, None)\n",
        "print(tupla2)\n",
        "# Tupla vazia\n",
        "tupla3 = ()\n",
        "print(tupla3)\n",
        "# acesso por índices\n",
        "print(tupla[0])\n",
        "print(tupla[3])\n",
        "print(tupla[-1])\n",
        "# acesso por slices\n",
        "print(tupla2[1:4])\n",
        "print(tupla2[-2:])\n",
        "print(tupla2[:])"
      ],
      "metadata": {
        "id": "LszqmXWFvXZD",
        "colab": {
          "base_uri": "https://localhost:8080/"
        },
        "outputId": "e0022b0c-da55-4cc4-c1fc-f8aab19a1644"
      },
      "execution_count": 42,
      "outputs": [
        {
          "output_type": "stream",
          "name": "stdout",
          "text": [
            "(0, 1, 2, 3, 4)\n",
            "(2, 'a', 5.44, True, None)\n",
            "()\n",
            "0\n",
            "3\n",
            "4\n",
            "('a', 5.44, True)\n",
            "(True, None)\n",
            "(2, 'a', 5.44, True, None)\n"
          ]
        }
      ]
    },
    {
      "cell_type": "code",
      "source": [
        "t1 = (30, 10, 20)\n",
        "t2 = (2, 'a', 5.44, True)\n",
        "# Operações de concatenação (+), repetição (*) e filiação (in)\n",
        "print(t1 + t2)\n",
        "print(t1 * 3)\n",
        "print(10 in t1)\n",
        "# Funções úteis\n",
        "print(len(t2)) # len: retorna a quantidade de elementos da tupla\n",
        "print(min(t1)) # min: retorna o menor elemento da tupla\n",
        "print(max(t1)) # max: retorna o maior elemento da tupla\n",
        "print(sum(t1)) # sum: retorna a soma dos elementos da tupla\n",
        "# Métodos que retornam valores\n",
        "print(t1.index(20)) # index: retorna o índice da primeira ocorrência do elemento\n",
        "print(t2.count('a')) # count: conta as ocorrências do elemento"
      ],
      "metadata": {
        "id": "ufZsj-1Pvd-i",
        "colab": {
          "base_uri": "https://localhost:8080/"
        },
        "outputId": "965a6c65-7b29-4744-8595-454efb0c948e"
      },
      "execution_count": 43,
      "outputs": [
        {
          "output_type": "stream",
          "name": "stdout",
          "text": [
            "(30, 10, 20, 2, 'a', 5.44, True)\n",
            "(30, 10, 20, 30, 10, 20, 30, 10, 20)\n",
            "True\n",
            "4\n",
            "10\n",
            "30\n",
            "60\n",
            "2\n",
            "1\n"
          ]
        }
      ]
    },
    {
      "cell_type": "markdown",
      "source": [
        "## Conjuntos"
      ],
      "metadata": {
        "id": "MipJ3YxGOlPM"
      }
    },
    {
      "cell_type": "code",
      "source": [
        "# Criação de um conjunto homogêneo\n",
        "c1 = {3, 0, 1, 4, 3}\n",
        "print(c1)\n",
        "# Criação do mesmo conjunto, porém com uma ordenação diferente dos itens\n",
        "c2 = {2, 1, 4, 3, 0}\n",
        "print(c2)\n",
        "# Conjunto heterogêneo\n",
        "c3 = {2, 'a', 5.44, True, None}\n",
        "print(c3)"
      ],
      "metadata": {
        "colab": {
          "base_uri": "https://localhost:8080/"
        },
        "id": "LIs55DgqOMyF",
        "outputId": "8cc75dde-dea9-45aa-f15e-de2b464d12e0"
      },
      "execution_count": 44,
      "outputs": [
        {
          "output_type": "stream",
          "name": "stdout",
          "text": [
            "{0, 1, 3, 4}\n",
            "{0, 1, 2, 3, 4}\n",
            "{None, True, 2, 5.44, 'a'}\n"
          ]
        }
      ]
    },
    {
      "cell_type": "code",
      "source": [
        "# Criação dos conjuntos A e B\n",
        "A = {1, 2, 3, 4, 5}\n",
        "B = {4, 5, 6, 7, 8}\n",
        "print('A:', A)\n",
        "print('B:', B)"
      ],
      "metadata": {
        "colab": {
          "base_uri": "https://localhost:8080/"
        },
        "id": "CSmmeR4LPbck",
        "outputId": "5a92cd28-7fc9-480a-b6f4-6baceb73d06b"
      },
      "execution_count": 45,
      "outputs": [
        {
          "output_type": "stream",
          "name": "stdout",
          "text": [
            "A: {1, 2, 3, 4, 5}\n",
            "B: {4, 5, 6, 7, 8}\n"
          ]
        }
      ]
    },
    {
      "cell_type": "code",
      "source": [
        "# Operação de União: (A ∪ B)\n",
        "print('A|B=>', A|B)\n",
        "print('A.union(B)=>',A.union(B))"
      ],
      "metadata": {
        "colab": {
          "base_uri": "https://localhost:8080/"
        },
        "id": "83J-z7ibPhgL",
        "outputId": "9feefd81-8d94-45df-95b2-2c5b53b897f6"
      },
      "execution_count": 46,
      "outputs": [
        {
          "output_type": "stream",
          "name": "stdout",
          "text": [
            "A|B=> {1, 2, 3, 4, 5, 6, 7, 8}\n",
            "A.union(B)=> {1, 2, 3, 4, 5, 6, 7, 8}\n"
          ]
        }
      ]
    },
    {
      "cell_type": "code",
      "source": [
        "# Operação de Interseção: (A ∩ B)\n",
        "print('A&B=>',A&B)\n",
        "print('A.intersection(B)=>',A.intersection(B))"
      ],
      "metadata": {
        "colab": {
          "base_uri": "https://localhost:8080/"
        },
        "id": "m-la7dcoQBrZ",
        "outputId": "45973a63-b61c-4834-86e4-5186d66c0dd9"
      },
      "execution_count": 47,
      "outputs": [
        {
          "output_type": "stream",
          "name": "stdout",
          "text": [
            "A&B=> {4, 5}\n",
            "A.intersection(B)=> {4, 5}\n"
          ]
        }
      ]
    },
    {
      "cell_type": "code",
      "source": [
        "# Operação de Diferença: (A - B) e (B - A)\n",
        "print('A - B =>', A - B)\n",
        "print('A.difference(B) =>', A.difference(B))\n",
        "print('B - A =>', B - A)\n",
        "print('B.difference(A) =>', B.difference(A))"
      ],
      "metadata": {
        "colab": {
          "base_uri": "https://localhost:8080/"
        },
        "id": "e_KLXtUvQqrr",
        "outputId": "af444287-26ed-4c41-8cb2-e316a905af1c"
      },
      "execution_count": 48,
      "outputs": [
        {
          "output_type": "stream",
          "name": "stdout",
          "text": [
            "A - B => {1, 2, 3}\n",
            "A.difference(B) => {1, 2, 3}\n",
            "B - A => {8, 6, 7}\n",
            "B.difference(A) => {8, 6, 7}\n"
          ]
        }
      ]
    },
    {
      "cell_type": "code",
      "source": [
        "# Criação dos conjuntos A e B\n",
        "c1 = {1, 2, 3, 4, 5}\n",
        "c2 = {4, 5}\n",
        "c3 = {91, 92, 93}\n",
        "# Adiciona um elemento ao conjunto\n",
        "c1.add(6)\n",
        "print(c1)\n",
        "# Adiciona os elementos de uma sequência iterável\n",
        "c1.update([2, 4, 6, 8])\n",
        "print(c1)\n",
        "# Descarta um elemento do conjunto,\n",
        "c1.discard(8)\n",
        "print(c1)\n",
        "# Diferentemente do set.remove(), o discard não gera um erro\n",
        "# se o elmento a ser removido não existir\n",
        "c1.discard(99)\n",
        "print(c1)\n",
        "# Verifica se os conjuntos são disjuntos, ou seja,\n",
        "# se não possuem nenhum elemento em comum\n",
        "print(c1.isdisjoint(c2))\n",
        "print(c1.isdisjoint(c3))\n",
        "# Verifica se o conjunto é subconjunto de outro\n",
        "print(c1.issubset(c2))\n",
        "print(c2.issubset(c1))\n",
        "# Verifica se o conjunto contém outro conjunto (superset)\n",
        "print(c1.issuperset(c2))\n",
        "print(c2.issuperset(c1))"
      ],
      "metadata": {
        "colab": {
          "base_uri": "https://localhost:8080/"
        },
        "id": "L4Sn8RkAUVey",
        "outputId": "b393d369-07d5-4887-857e-0e7f8e9f2a6b"
      },
      "execution_count": 49,
      "outputs": [
        {
          "output_type": "stream",
          "name": "stdout",
          "text": [
            "{1, 2, 3, 4, 5, 6}\n",
            "{1, 2, 3, 4, 5, 6, 8}\n",
            "{1, 2, 3, 4, 5, 6}\n",
            "{1, 2, 3, 4, 5, 6}\n",
            "False\n",
            "True\n",
            "False\n",
            "True\n",
            "True\n",
            "False\n"
          ]
        }
      ]
    },
    {
      "cell_type": "code",
      "source": [
        "# Criação das listas de alunos das turmas\n",
        "ING = ['Gabriel', 'Caio', 'Maria', 'Ana', 'Juliano', 'Flávia', 'Rubens', 'Bruna']\n",
        "ESP = ['Caio', 'Artur', 'Beatriz', 'Carolina', 'Maria', 'Juliano', 'Bruna', 'Rui']\n",
        "FRA = ['Pedro', 'Bruna', 'Paula', 'Tiago', 'Maria', 'Flávia', 'Rui', 'Carolina']"
      ],
      "metadata": {
        "id": "Ao_wB8jBXuOo"
      },
      "execution_count": 50,
      "outputs": []
    },
    {
      "cell_type": "code",
      "source": [
        "# Concatenação de todas as listas de alunos\n",
        "ALL = ING + ESP + FRA"
      ],
      "metadata": {
        "id": "r1EwAuG3Xx6d"
      },
      "execution_count": 51,
      "outputs": []
    },
    {
      "cell_type": "code",
      "source": [
        "# Exibição do resultado\n",
        "print('Relação de todos os alunos da escola:')\n",
        "print(ALL)"
      ],
      "metadata": {
        "colab": {
          "base_uri": "https://localhost:8080/"
        },
        "id": "pVqvVTa_X04l",
        "outputId": "ec5fecde-a734-469c-d168-e8c835d39d67"
      },
      "execution_count": 52,
      "outputs": [
        {
          "output_type": "stream",
          "name": "stdout",
          "text": [
            "Relação de todos os alunos da escola:\n",
            "['Gabriel', 'Caio', 'Maria', 'Ana', 'Juliano', 'Flávia', 'Rubens', 'Bruna', 'Caio', 'Artur', 'Beatriz', 'Carolina', 'Maria', 'Juliano', 'Bruna', 'Rui', 'Pedro', 'Bruna', 'Paula', 'Tiago', 'Maria', 'Flávia', 'Rui', 'Carolina']\n"
          ]
        }
      ]
    },
    {
      "cell_type": "code",
      "source": [
        "# Criação dos conjuntos de alunos das turmas\n",
        "ING = {'Gabriel', 'Caio', 'Maria', 'Ana', 'Juliano', 'Flávia', 'Rubens', 'Bruna'}\n",
        "ESP = {'Caio', 'Artur', 'Beatriz', 'Carolina', 'Maria', 'Juliano', 'Bruna', 'Rui'}\n",
        "FRA = {'Pedro', 'Bruna', 'Paula', 'Tiago', 'Maria', 'Flávia', 'Rui', 'Carolina'}"
      ],
      "metadata": {
        "id": "9SBom0WHYCNe"
      },
      "execution_count": 53,
      "outputs": []
    },
    {
      "cell_type": "code",
      "source": [
        "# Operação de união dos conjuntos (união dos alunos de todas as turmas)\n",
        "# Também poderia ser: ALL = ING.union(ESP).union(FRA)\n",
        "ALL = ING | ESP | FRA"
      ],
      "metadata": {
        "id": "QuqKZVXzYETN"
      },
      "execution_count": 54,
      "outputs": []
    },
    {
      "cell_type": "code",
      "source": [
        "# Exibição do resultado\n",
        "print('Relação de todos os alunos da escola:')\n",
        "print(ALL)"
      ],
      "metadata": {
        "colab": {
          "base_uri": "https://localhost:8080/"
        },
        "id": "hqbRL9y9YHHd",
        "outputId": "21e2bc98-d8ae-4c33-d385-dab607b1dd83"
      },
      "execution_count": 55,
      "outputs": [
        {
          "output_type": "stream",
          "name": "stdout",
          "text": [
            "Relação de todos os alunos da escola:\n",
            "{'Juliano', 'Artur', 'Ana', 'Caio', 'Rubens', 'Rui', 'Gabriel', 'Carolina', 'Beatriz', 'Pedro', 'Tiago', 'Paula', 'Maria', 'Flávia', 'Bruna'}\n"
          ]
        }
      ]
    },
    {
      "cell_type": "code",
      "source": [
        "# Usando operadores para identificar os alunos que fazem +1 curso\n",
        "ING_ESP=ING.intersection(ESP)\n",
        "ING_FRA=ING.intersection(FRA)\n",
        "ESP_FRA=ESP.intersection(FRA)\n",
        "ING_ESP_FRA=ING & FRA & ESP\n",
        "print('A relação dos alunos que fazem inglês x espanhol:', format (ING_ESP))\n",
        "print('A relação dos alunos que fazem inglês x francês:', format (ING_FRA))\n",
        "print('A relação dos alunos que fazem espanhol x francês:', format (ESP_FRA))\n",
        "print('A relação dos alunos que fazem espanhol x francês x inglês:', format (ING_ESP_FRA))"
      ],
      "metadata": {
        "colab": {
          "base_uri": "https://localhost:8080/"
        },
        "id": "Fm5G6cQAYLPP",
        "outputId": "bfea73c4-4d82-46e7-e736-9859342bb93b"
      },
      "execution_count": 56,
      "outputs": [
        {
          "output_type": "stream",
          "name": "stdout",
          "text": [
            "A relação dos alunos que fazem inglês x espanhol: {'Bruna', 'Juliano', 'Maria', 'Caio'}\n",
            "A relação dos alunos que fazem inglês x francês: {'Bruna', 'Maria', 'Flávia'}\n",
            "A relação dos alunos que fazem espanhol x francês: {'Bruna', 'Rui', 'Maria', 'Carolina'}\n",
            "A relação dos alunos que fazem espanhol x francês x inglês: {'Bruna', 'Maria'}\n"
          ]
        }
      ]
    },
    {
      "cell_type": "code",
      "source": [
        "# 1 – Interseção entre os pares de turmas: (ING & ESP), (ING & FRA) e (ESP & FRA)\n",
        "# 2 – Calcula a união das interseções\n",
        "ALUNOS_DESCONTO = (ING & ESP) | (ING & FRA) | (ESP & FRA)\n",
        "# Exibição do resultado\n",
        "print('Relação de dos alunos com desconto:')\n",
        "print(ALUNOS_DESCONTO)"
      ],
      "metadata": {
        "colab": {
          "base_uri": "https://localhost:8080/"
        },
        "id": "PdiGOGFXacSD",
        "outputId": "9843ac2c-512b-45a6-8181-f4dbb7f55639"
      },
      "execution_count": 57,
      "outputs": [
        {
          "output_type": "stream",
          "name": "stdout",
          "text": [
            "Relação de dos alunos com desconto:\n",
            "{'Juliano', 'Caio', 'Rui', 'Maria', 'Flávia', 'Bruna', 'Carolina'}\n"
          ]
        }
      ]
    },
    {
      "cell_type": "markdown",
      "source": [
        "## Dicionários"
      ],
      "metadata": {
        "id": "XVy9Gpsea1tE"
      }
    },
    {
      "cell_type": "code",
      "source": [
        "#Dicionário onde as chaves são do tipo string\n",
        "d1 = {'nome': 'Antônio', 'idade': 36, 'sexo': 'masculino'}\n",
        "print(d1)\n",
        "# Dicionário onde as chaves são do tipo inteiro\n",
        "d2 = {2: 'dois', 1: 'um', 4: 'quatro', 3: 'três', 0: 'zero'}\n",
        "print(d2)\n",
        "# Dicionário com chaves de tipos mistos\n",
        "d3 = {2: 'a', 5.44: True, 'key': None}\n",
        "print(d3)\n",
        "# Dicionário vazio\n",
        "d4 = {}\n",
        "print(d4)"
      ],
      "metadata": {
        "id": "wkupKuz1a4dr",
        "colab": {
          "base_uri": "https://localhost:8080/"
        },
        "outputId": "fe1c9db9-a9e1-460c-e68f-0e26bd34e5b6"
      },
      "execution_count": 58,
      "outputs": [
        {
          "output_type": "stream",
          "name": "stdout",
          "text": [
            "{'nome': 'Antônio', 'idade': 36, 'sexo': 'masculino'}\n",
            "{2: 'dois', 1: 'um', 4: 'quatro', 3: 'três', 0: 'zero'}\n",
            "{2: 'a', 5.44: True, 'key': None}\n",
            "{}\n"
          ]
        }
      ]
    },
    {
      "cell_type": "code",
      "source": [
        "# Criação dos dicionários\n",
        "d1 = {2: 'dois', 1: 'um', 4: 'quatro', 3: 'três', 0: 'zero'}\n",
        "d2 = {'nome': 'Antônio', 'idade': 36, 'sexo': 'masculino'}\n",
        "# Acesso aos elementos\n",
        "print(d1[0])\n",
        "print(d1[2])\n",
        "print(f'Meu nome é {d2[\"nome\"]} e tenho {d2[\"idade\"]} anos')"
      ],
      "metadata": {
        "colab": {
          "base_uri": "https://localhost:8080/"
        },
        "id": "bY1MraBPnjr9",
        "outputId": "d64e6a6b-b3d1-4b56-b5b8-6464d687b1c5"
      },
      "execution_count": 59,
      "outputs": [
        {
          "output_type": "stream",
          "name": "stdout",
          "text": [
            "zero\n",
            "dois\n",
            "Meu nome é Antônio e tenho 36 anos\n"
          ]
        }
      ]
    },
    {
      "cell_type": "code",
      "source": [
        "# Criação do dicionário\n",
        "d1 = {'nome': 'Antônio', 'idade': 36, 'sexo': 'masculino'}\n",
        "# Acesso por meio do operador []\n",
        "print(d1['endereço'])"
      ],
      "metadata": {
        "colab": {
          "base_uri": "https://localhost:8080/",
          "height": 208
        },
        "id": "GDfSDLEen3al",
        "outputId": "726a201f-cde3-4de1-9499-6dc081d0bfe1"
      },
      "execution_count": 61,
      "outputs": [
        {
          "output_type": "error",
          "ename": "KeyError",
          "evalue": "ignored",
          "traceback": [
            "\u001b[0;31m---------------------------------------------------------------------------\u001b[0m",
            "\u001b[0;31mKeyError\u001b[0m                                  Traceback (most recent call last)",
            "\u001b[0;32m<ipython-input-61-5f607a75e2e1>\u001b[0m in \u001b[0;36m<cell line: 4>\u001b[0;34m()\u001b[0m\n\u001b[1;32m      2\u001b[0m \u001b[0md1\u001b[0m \u001b[0;34m=\u001b[0m \u001b[0;34m{\u001b[0m\u001b[0;34m'nome'\u001b[0m\u001b[0;34m:\u001b[0m \u001b[0;34m'Antônio'\u001b[0m\u001b[0;34m,\u001b[0m \u001b[0;34m'idade'\u001b[0m\u001b[0;34m:\u001b[0m \u001b[0;36m36\u001b[0m\u001b[0;34m,\u001b[0m \u001b[0;34m'sexo'\u001b[0m\u001b[0;34m:\u001b[0m \u001b[0;34m'masculino'\u001b[0m\u001b[0;34m}\u001b[0m\u001b[0;34m\u001b[0m\u001b[0;34m\u001b[0m\u001b[0m\n\u001b[1;32m      3\u001b[0m \u001b[0;31m# Acesso por meio do operador []\u001b[0m\u001b[0;34m\u001b[0m\u001b[0;34m\u001b[0m\u001b[0m\n\u001b[0;32m----> 4\u001b[0;31m \u001b[0mprint\u001b[0m\u001b[0;34m(\u001b[0m\u001b[0md1\u001b[0m\u001b[0;34m[\u001b[0m\u001b[0;34m'endereço'\u001b[0m\u001b[0;34m]\u001b[0m\u001b[0;34m)\u001b[0m\u001b[0;34m\u001b[0m\u001b[0;34m\u001b[0m\u001b[0m\n\u001b[0m",
            "\u001b[0;31mKeyError\u001b[0m: 'endereço'"
          ]
        }
      ]
    },
    {
      "cell_type": "code",
      "source": [
        "# Acesso por meio do método get()\n",
        "print(d1.get('endereço'))"
      ],
      "metadata": {
        "colab": {
          "base_uri": "https://localhost:8080/"
        },
        "id": "iVywsdJ5oDFf",
        "outputId": "7db9ea83-57c6-458b-f155-cccb1c9ceaf0"
      },
      "execution_count": 62,
      "outputs": [
        {
          "output_type": "stream",
          "name": "stdout",
          "text": [
            "None\n"
          ]
        }
      ]
    },
    {
      "cell_type": "code",
      "source": [
        "# Criação do dicionário\n",
        "d1 = {'nome': 'Antônio', 'idade': 36, 'sexo': 'masculino'}\n",
        "print(d1)\n",
        "# Atualização do valor da chave 'nome'\n",
        "d1['nome'] = 'Antônio Carlos'\n",
        "print(d1)\n",
        "# Adição da chave 'endereço'\n",
        "d1['endereço'] = 'Rua 123'\n",
        "print(d1)"
      ],
      "metadata": {
        "colab": {
          "base_uri": "https://localhost:8080/"
        },
        "id": "9IFiDJphoHrO",
        "outputId": "425fb7a9-b138-4bfa-cfb5-2b541cfd6881"
      },
      "execution_count": 63,
      "outputs": [
        {
          "output_type": "stream",
          "name": "stdout",
          "text": [
            "{'nome': 'Antônio', 'idade': 36, 'sexo': 'masculino'}\n",
            "{'nome': 'Antônio Carlos', 'idade': 36, 'sexo': 'masculino'}\n",
            "{'nome': 'Antônio Carlos', 'idade': 36, 'sexo': 'masculino', 'endereço': 'Rua 123'}\n"
          ]
        }
      ]
    },
    {
      "cell_type": "code",
      "source": [
        "# Cria o dicionário\n",
        "d1 = {'zero': 0, 'um': 1, 'dois': 2, 'três': 3, 'quatro': 4}\n",
        "print(d1)\n",
        "# Encontra a maior e menor chave\n",
        "print('Maior e menor chave:', max(d1), min(d1))\n",
        "# Adiciona elementos de um outro dicionario\n",
        "d1.update({'cinco': 5, 'seis': 6})\n",
        "print(d1)\n",
        "# Verifica se o dicionário possui as seguintes chaves\n",
        "print(\"A chave 'dois' está no dicionário?\", 'dois' in d1)\n",
        "print(\"A chave 'cinco' não está no dicionário?\", 'dois' in d1)\n",
        "# Remove o elemento com chave 'zero'\n",
        "d1.pop('zero')\n",
        "print(d1)"
      ],
      "metadata": {
        "id": "V8-fe5ckobbj"
      },
      "execution_count": null,
      "outputs": []
    },
    {
      "cell_type": "code",
      "source": [
        "# Cria o dicionário\n",
        "d1 = {'zero': 0, 'um': 1, 'dois': 2, 'três': 3, 'quatro': 4}\n",
        "# Itera sobre as chaves\n",
        "for key in d1:\n",
        "  if key == 'três':\n",
        "    print('Chave três encontrada!')\n",
        "for key in d1.keys():\n",
        "  if key == 'dez':\n",
        "    print('Chave dez encontrada!')\n",
        "  else:\n",
        "    print('Não encontrou chave dez pela consulta nas chaves')\n",
        "# Itera sobre os valores\n",
        "soma = 0\n",
        "for value in d1.values():\n",
        "  soma = soma + value\n",
        "  print('Soma dos valores do dicionário:', soma)\n",
        "# Itera sobre os itens\n",
        "for key, value in d1.items():\n",
        "  print(key, value)"
      ],
      "metadata": {
        "colab": {
          "base_uri": "https://localhost:8080/"
        },
        "id": "KBt8i-9Vo-9T",
        "outputId": "44a781a0-c602-4869-8751-e7e151cb9abd"
      },
      "execution_count": 64,
      "outputs": [
        {
          "output_type": "stream",
          "name": "stdout",
          "text": [
            "Chave três encontrada!\n",
            "Não encontrou chave dez pela consulta nas chaves\n",
            "Não encontrou chave dez pela consulta nas chaves\n",
            "Não encontrou chave dez pela consulta nas chaves\n",
            "Não encontrou chave dez pela consulta nas chaves\n",
            "Não encontrou chave dez pela consulta nas chaves\n",
            "Soma dos valores do dicionário: 0\n",
            "Soma dos valores do dicionário: 1\n",
            "Soma dos valores do dicionário: 3\n",
            "Soma dos valores do dicionário: 6\n",
            "Soma dos valores do dicionário: 10\n",
            "zero 0\n",
            "um 1\n",
            "dois 2\n",
            "três 3\n",
            "quatro 4\n"
          ]
        }
      ]
    },
    {
      "cell_type": "markdown",
      "source": [
        "Observe que o número de verificações é o número de linhas do \"não encontrou\""
      ],
      "metadata": {
        "id": "nRXVHj9xTgRm"
      }
    },
    {
      "cell_type": "markdown",
      "source": [
        "##Funções"
      ],
      "metadata": {
        "id": "xWomRL-UTw8X"
      }
    },
    {
      "cell_type": "code",
      "source": [
        "# define as listas com os números a serem somados\n",
        "l1 = [1, 2, 3, 4, 5]\n",
        "l2 = [3, 1, 5, 9, 0, 8, 2, 3, 4]\n",
        "l3 = [12, 43, 23, 12, 789]\n",
        "# itera sobre cada lista e soma seus elementos\n",
        "soma_l1 = 0\n",
        "for item in l1:\n",
        "  soma_l1 = soma_l1 + item\n",
        "soma_l2 = 0\n",
        "for item in l2:\n",
        "  soma_l2 = soma_l2 + item\n",
        "soma_l3 = 0\n",
        "for item in l3:\n",
        "  soma_l3 = soma_l3 + item\n",
        "# exibe os resultados\n",
        "print(f'Resultado: l1={soma_l1}, l2={soma_l2}, l3={soma_l3}')"
      ],
      "metadata": {
        "colab": {
          "base_uri": "https://localhost:8080/"
        },
        "id": "0wawWQL2TRoO",
        "outputId": "10237976-ff03-41d8-e123-4a11b7062193"
      },
      "execution_count": 66,
      "outputs": [
        {
          "output_type": "stream",
          "name": "stdout",
          "text": [
            "Resultado: l1=15, l2=35, l3=879\n"
          ]
        }
      ]
    },
    {
      "cell_type": "code",
      "source": [
        "# define as listas com os números a serem somados\n",
        "l1 = [1, 2, 3, 4, 5]\n",
        "l2 = [3, 1, 5, 9, 0, 8, 2, 3, 4]\n",
        "l3 = [12, 43, 23, 12, 789]\n",
        "# declaraca a função que soma os elementos da lista\n",
        "def soma_lista(lista):\n",
        "  soma = 0\n",
        "  for item in lista:\n",
        "    soma = soma + item\n",
        "  return soma\n",
        "# chama a função para cada lista\n",
        "soma_l1 = soma_lista(l1)\n",
        "soma_l2 = soma_lista(l2)\n",
        "soma_l3 = soma_lista(l3)\n",
        "print(f'Resultado: l1={soma_l1}, l2={soma_l2}, l3={soma_l3}')"
      ],
      "metadata": {
        "colab": {
          "base_uri": "https://localhost:8080/"
        },
        "id": "IJy8sgaEfc65",
        "outputId": "e6c26357-73e7-431c-b37b-4aab22dfbac3"
      },
      "execution_count": 67,
      "outputs": [
        {
          "output_type": "stream",
          "name": "stdout",
          "text": [
            "Resultado: l1=15, l2=35, l3=879\n"
          ]
        }
      ]
    },
    {
      "cell_type": "code",
      "source": [
        "# exibe mensagem de boas vindas à uma pessoa\n",
        "def boas_vindas(nome):\n",
        "  print(f'Olá {nome}. Seja bem-vindo (a)!')\n",
        "# calcula a área de um quadrado: l x l\n",
        "def area_quadrado(lado):\n",
        "  return lado * lado\n",
        "# calcula a área de um triângulo: (b x h) / 2\n",
        "def area_triangulo(base, altura):\n",
        "  return (base * altura)/2\n",
        "# Realiza as chamadas das funções\n",
        "boas_vindas('Priscila')\n",
        "print(area_triangulo(4, 5))\n",
        "boas_vindas('Maria')\n",
        "boas_vindas('Joana')\n",
        "print(area_quadrado(4))\n",
        "print(area_quadrado(10))\n",
        "boas_vindas('Antônio')\n",
        "print(area_quadrado(10))\n",
        "print(area_triangulo(5, 2))\n",
        "print(area_triangulo(4, 5))"
      ],
      "metadata": {
        "colab": {
          "base_uri": "https://localhost:8080/"
        },
        "id": "Pq1P5IShgALw",
        "outputId": "573dde8a-e667-4543-c1b2-c1f339836cd6"
      },
      "execution_count": 68,
      "outputs": [
        {
          "output_type": "stream",
          "name": "stdout",
          "text": [
            "Olá Priscila. Seja bem-vindo (a)!\n",
            "10.0\n",
            "Olá Maria. Seja bem-vindo (a)!\n",
            "Olá Joana. Seja bem-vindo (a)!\n",
            "16\n",
            "100\n",
            "Olá Antônio. Seja bem-vindo (a)!\n",
            "100\n",
            "5.0\n",
            "10.0\n"
          ]
        }
      ]
    },
    {
      "cell_type": "code",
      "source": [
        "# Realiza uma divisão. Se o divisor é zero, retorna uma mensagem de erro.\n",
        "def div(dividendo, divisor):\n",
        "  if divisor == 0:\n",
        "    print('ERRO: Divisor igual à zero!')\n",
        "    return\n",
        "  return dividendo / divisor\n",
        "# Função similar à função div, mas que retorna o dividendo e o resto da divisão.\n",
        "def div_qr(dividendo, divisor):\n",
        "  if divisor == 0:\n",
        "    print('ERRO: Divisor igual à zero!')\n",
        "    return\n",
        "  quociente = dividendo // divisor\n",
        "  resto = dividendo % divisor\n",
        "  return (quociente, resto)\n",
        "print('div(10, 4) ==>', div(10, 4)) # dividento=10 e divisor=4\n",
        "print('div_qr(10, 4) ==>', div_qr(10, 4)) # dividento=10 e divisor=4\n",
        "print('div(10, 0) ==>', div(10, 0)) # dividento=10 e divisor=0"
      ],
      "metadata": {
        "colab": {
          "base_uri": "https://localhost:8080/"
        },
        "id": "wKvBpWTQgPuK",
        "outputId": "0cf9b6f8-da8f-4226-9591-9bf11ac80381"
      },
      "execution_count": 69,
      "outputs": [
        {
          "output_type": "stream",
          "name": "stdout",
          "text": [
            "div(10, 4) ==> 2.5\n",
            "div_qr(10, 4) ==> (2, 2)\n",
            "ERRO: Divisor igual à zero!\n",
            "div(10, 0) ==> None\n"
          ]
        }
      ]
    },
    {
      "cell_type": "code",
      "source": [
        "print('div(10, 0) ==>', div(10, 0)) # dividendo=10 e divisor=0\n"
      ],
      "metadata": {
        "colab": {
          "base_uri": "https://localhost:8080/"
        },
        "id": "GbIWEIxJg4lu",
        "outputId": "3e73ee31-7d37-4788-d457-e35de5c3f437"
      },
      "execution_count": 70,
      "outputs": [
        {
          "output_type": "stream",
          "name": "stdout",
          "text": [
            "ERRO: Divisor igual à zero!\n",
            "div(10, 0) ==> None\n"
          ]
        }
      ]
    },
    {
      "cell_type": "code",
      "source": [
        "# atribuição dos múltiplos valores em uma variável única do tipo tupla\n",
        "resultado = div_qr(21, 5)\n",
        "print('resultado:', resultado, type(resultado))\n",
        "# atribuição dos múltiplos valores em variáveis separadas\n",
        "quociente, resto = div_qr(21, 5)\n",
        "print('quociente:', quociente, type(quociente))\n",
        "print('resto:', resto, type(resto))"
      ],
      "metadata": {
        "colab": {
          "base_uri": "https://localhost:8080/"
        },
        "id": "rmsyA1okg5Zx",
        "outputId": "2ebf0b4d-fd0b-4e64-c4fc-105b9b96f0a5"
      },
      "execution_count": 71,
      "outputs": [
        {
          "output_type": "stream",
          "name": "stdout",
          "text": [
            "resultado: (4, 1) <class 'tuple'>\n",
            "quociente: 4 <class 'int'>\n",
            "resto: 1 <class 'int'>\n"
          ]
        }
      ]
    },
    {
      "cell_type": "code",
      "source": [
        "# Verifica se é um divisor inválido (divisor == 0)\n",
        "def divisor_invalido(divisor):\n",
        "  if divisor == 0:\n",
        "    print('ERRO: Divisor igual à zero!')\n",
        "    return True\n",
        "  return False\n",
        "# Retorna o resultado de uma divisão\n",
        "def div(dividendo, divisor):\n",
        "  if divisor_invalido(divisor):\n",
        "    return\n",
        "  return dividendo / divisor\n",
        "# Retorna o quociente e o resto de uma divisão\n",
        "def div_qr(dividendo, divisor):\n",
        "  if divisor_invalido(divisor):\n",
        "    return\n",
        "  quociente = dividendo // divisor\n",
        "  resto = dividendo % divisor\n",
        "  return (quociente, resto) "
      ],
      "metadata": {
        "id": "1tT-lODGhhwo"
      },
      "execution_count": 72,
      "outputs": []
    },
    {
      "cell_type": "code",
      "source": [
        "divisor_invalido(-1)"
      ],
      "metadata": {
        "colab": {
          "base_uri": "https://localhost:8080/"
        },
        "id": "Vr2hotFih_-p",
        "outputId": "859a2668-e323-489b-b875-b8d914ce34bb"
      },
      "execution_count": 73,
      "outputs": [
        {
          "output_type": "execute_result",
          "data": {
            "text/plain": [
              "False"
            ]
          },
          "metadata": {},
          "execution_count": 73
        }
      ]
    },
    {
      "cell_type": "code",
      "source": [
        "divisor_invalido(0)"
      ],
      "metadata": {
        "colab": {
          "base_uri": "https://localhost:8080/"
        },
        "id": "lS6-MKBniEc7",
        "outputId": "c0a04f4a-e845-47ca-a991-db1004fe22bf"
      },
      "execution_count": 74,
      "outputs": [
        {
          "output_type": "stream",
          "name": "stdout",
          "text": [
            "ERRO: Divisor igual à zero!\n"
          ]
        },
        {
          "output_type": "execute_result",
          "data": {
            "text/plain": [
              "True"
            ]
          },
          "metadata": {},
          "execution_count": 74
        }
      ]
    },
    {
      "cell_type": "code",
      "source": [
        "div(10,5)"
      ],
      "metadata": {
        "colab": {
          "base_uri": "https://localhost:8080/"
        },
        "id": "w9UTmltDiJSK",
        "outputId": "a48c547a-ff3d-4577-98c9-e5aa1234ab77"
      },
      "execution_count": 75,
      "outputs": [
        {
          "output_type": "execute_result",
          "data": {
            "text/plain": [
              "2.0"
            ]
          },
          "metadata": {},
          "execution_count": 75
        }
      ]
    },
    {
      "cell_type": "code",
      "source": [
        "div(10,3)"
      ],
      "metadata": {
        "colab": {
          "base_uri": "https://localhost:8080/"
        },
        "id": "0WtMElmriOM6",
        "outputId": "92775947-37d9-4903-9eec-d28e37a7c04f"
      },
      "execution_count": 76,
      "outputs": [
        {
          "output_type": "execute_result",
          "data": {
            "text/plain": [
              "3.3333333333333335"
            ]
          },
          "metadata": {},
          "execution_count": 76
        }
      ]
    },
    {
      "cell_type": "code",
      "source": [
        "div(10,0)"
      ],
      "metadata": {
        "colab": {
          "base_uri": "https://localhost:8080/"
        },
        "id": "b-MXKxVZiScQ",
        "outputId": "e3802869-bbf3-4e3c-f03b-683a8f5ce002"
      },
      "execution_count": 77,
      "outputs": [
        {
          "output_type": "stream",
          "name": "stdout",
          "text": [
            "ERRO: Divisor igual à zero!\n"
          ]
        }
      ]
    },
    {
      "cell_type": "code",
      "source": [
        "div_qr(10,0)"
      ],
      "metadata": {
        "colab": {
          "base_uri": "https://localhost:8080/"
        },
        "id": "0YVlD-D-iVvA",
        "outputId": "679d2ce5-d90a-4316-8d9f-2317e1385550"
      },
      "execution_count": 78,
      "outputs": [
        {
          "output_type": "stream",
          "name": "stdout",
          "text": [
            "ERRO: Divisor igual à zero!\n"
          ]
        }
      ]
    },
    {
      "cell_type": "code",
      "source": [
        "div_qr(10,3)"
      ],
      "metadata": {
        "colab": {
          "base_uri": "https://localhost:8080/"
        },
        "id": "3w5M3Zf5ifag",
        "outputId": "fab195c7-15ae-4b53-9db7-214393e61962"
      },
      "execution_count": 79,
      "outputs": [
        {
          "output_type": "execute_result",
          "data": {
            "text/plain": [
              "(3, 1)"
            ]
          },
          "metadata": {},
          "execution_count": 79
        }
      ]
    },
    {
      "cell_type": "code",
      "source": [
        "# calcula a área de um triângulo: (b x h) / 2\n",
        "def area_triangulo(base, altura):\n",
        "  return (base * altura)/2\n",
        "print(area_triangulo(5, 10))"
      ],
      "metadata": {
        "colab": {
          "base_uri": "https://localhost:8080/"
        },
        "id": "1tub5zaKij0w",
        "outputId": "e7036298-1cef-4f5e-d8db-2bcc28d78dc1"
      },
      "execution_count": 80,
      "outputs": [
        {
          "output_type": "stream",
          "name": "stdout",
          "text": [
            "25.0\n"
          ]
        }
      ]
    },
    {
      "cell_type": "code",
      "source": [
        "# calcula a área de um triângulo: (b x h) / 2\n",
        "def area_triangulo(base, altura):\n",
        "  return (base * altura)/2\n",
        "print(area_triangulo(altura=10, base=5))"
      ],
      "metadata": {
        "colab": {
          "base_uri": "https://localhost:8080/"
        },
        "id": "T1oaECNgiqTQ",
        "outputId": "b6f1b3eb-498b-444f-99bf-76375eb9b1ed"
      },
      "execution_count": 81,
      "outputs": [
        {
          "output_type": "stream",
          "name": "stdout",
          "text": [
            "25.0\n"
          ]
        }
      ]
    },
    {
      "cell_type": "code",
      "source": [
        "pip install pandas"
      ],
      "metadata": {
        "colab": {
          "base_uri": "https://localhost:8080/"
        },
        "id": "sYktnnkVlQdg",
        "outputId": "be20303b-3fd3-48f5-9aa0-58ad183dc729"
      },
      "execution_count": 82,
      "outputs": [
        {
          "output_type": "stream",
          "name": "stdout",
          "text": [
            "Looking in indexes: https://pypi.org/simple, https://us-python.pkg.dev/colab-wheels/public/simple/\n",
            "Requirement already satisfied: pandas in /usr/local/lib/python3.10/dist-packages (1.5.3)\n",
            "Requirement already satisfied: python-dateutil>=2.8.1 in /usr/local/lib/python3.10/dist-packages (from pandas) (2.8.2)\n",
            "Requirement already satisfied: pytz>=2020.1 in /usr/local/lib/python3.10/dist-packages (from pandas) (2022.7.1)\n",
            "Requirement already satisfied: numpy>=1.21.0 in /usr/local/lib/python3.10/dist-packages (from pandas) (1.22.4)\n",
            "Requirement already satisfied: six>=1.5 in /usr/local/lib/python3.10/dist-packages (from python-dateutil>=2.8.1->pandas) (1.16.0)\n"
          ]
        }
      ]
    },
    {
      "cell_type": "code",
      "source": [
        "! pip install igpu"
      ],
      "metadata": {
        "colab": {
          "base_uri": "https://localhost:8080/"
        },
        "id": "7E7Gg5YB2DPa",
        "outputId": "d5ae513e-a19a-42c3-9623-05ffcedc9669"
      },
      "execution_count": 83,
      "outputs": [
        {
          "output_type": "stream",
          "name": "stdout",
          "text": [
            "Looking in indexes: https://pypi.org/simple, https://us-python.pkg.dev/colab-wheels/public/simple/\n",
            "Collecting igpu\n",
            "  Downloading igpu-0.1.2-py3-none-any.whl (15 kB)\n",
            "Collecting pynvml (from igpu)\n",
            "  Downloading pynvml-11.5.0-py3-none-any.whl (53 kB)\n",
            "\u001b[2K     \u001b[90m━━━━━━━━━━━━━━━━━━━━━━━━━━━━━━━━━━━━━━━━\u001b[0m \u001b[32m53.1/53.1 kB\u001b[0m \u001b[31m3.1 MB/s\u001b[0m eta \u001b[36m0:00:00\u001b[0m\n",
            "\u001b[?25hRequirement already satisfied: psutil in /usr/local/lib/python3.10/dist-packages (from igpu) (5.9.5)\n",
            "Installing collected packages: pynvml, igpu\n",
            "Successfully installed igpu-0.1.2 pynvml-11.5.0\n"
          ]
        }
      ]
    },
    {
      "cell_type": "code",
      "source": [],
      "metadata": {
        "id": "HrtePdr_2TU4"
      },
      "execution_count": null,
      "outputs": []
    }
  ]
}